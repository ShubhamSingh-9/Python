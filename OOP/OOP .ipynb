{
 "cells": [
  {
   "cell_type": "code",
   "execution_count": 34,
   "id": "41fb41e2",
   "metadata": {},
   "outputs": [],
   "source": [
    "class Point:\n",
    "    \n",
    "    def __init__(self,x,y):\n",
    "        self.x_cord = x\n",
    "        self.y_cord = y\n",
    "        \n",
    "    def __str__(self):\n",
    "        return '<{},{}>'.format(self.x_cord, self.y_cord)\n",
    "    \n",
    "    def euc(self,other):\n",
    "        return((self.x_cord-other.x_cord)**2+(self.y_cord-other.y_cord))\n",
    "    \n",
    "    \n",
    "class Line:\n",
    "    \n",
    "    def __init__(self,a,b,c):\n",
    "        self.a= a\n",
    "        self.b = b\n",
    "        self.c= c\n",
    "        \n",
    "    def __str__(self):\n",
    "        return '{}x+{}y+{}'.format(self.a,self.b,self.c)"
   ]
  },
  {
   "cell_type": "code",
   "execution_count": 35,
   "id": "2ae72870",
   "metadata": {},
   "outputs": [
    {
     "name": "stdout",
     "output_type": "stream",
     "text": [
      "<2,2>\n"
     ]
    }
   ],
   "source": [
    "p1= Point(2,2)\n",
    "p2= Point(1,1)\n",
    "#p.euc((1,1))\n",
    "p1.euc(p2)\n",
    "print(p1)"
   ]
  },
  {
   "cell_type": "code",
   "execution_count": 29,
   "id": "ed7f45e2",
   "metadata": {},
   "outputs": [
    {
     "name": "stdout",
     "output_type": "stream",
     "text": [
      "1x+2y+3\n"
     ]
    }
   ],
   "source": [
    "L=Line(1,2,3)\n",
    "print(L)"
   ]
  },
  {
   "cell_type": "code",
   "execution_count": null,
   "id": "d3d44139",
   "metadata": {},
   "outputs": [],
   "source": []
  }
 ],
 "metadata": {
  "kernelspec": {
   "display_name": "Python 3 (ipykernel)",
   "language": "python",
   "name": "python3"
  },
  "language_info": {
   "codemirror_mode": {
    "name": "ipython",
    "version": 3
   },
   "file_extension": ".py",
   "mimetype": "text/x-python",
   "name": "python",
   "nbconvert_exporter": "python",
   "pygments_lexer": "ipython3",
   "version": "3.10.11"
  }
 },
 "nbformat": 4,
 "nbformat_minor": 5
}
