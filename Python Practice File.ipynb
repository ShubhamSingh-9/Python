{
  "nbformat": 4,
  "nbformat_minor": 0,
  "metadata": {
    "colab": {
      "provenance": []
    },
    "kernelspec": {
      "name": "python3",
      "display_name": "Python 3"
    },
    "language_info": {
      "name": "python"
    }
  },
  "cells": [
    {
      "cell_type": "code",
      "execution_count": null,
      "metadata": {
        "colab": {
          "base_uri": "https://localhost:8080/"
        },
        "id": "vCrX2aVwudDn",
        "outputId": "e92cd37f-f91c-46f9-a0fc-2731189b76a6"
      },
      "outputs": [
        {
          "output_type": "stream",
          "name": "stdout",
          "text": [
            "Enter the number5\n",
            "15\n"
          ]
        }
      ],
      "source": [
        "n= int(input('Enter the number'))\n",
        "\n",
        "sum= 0\n",
        "for i in range (1,n+1):\n",
        "  sum= sum+i\n",
        "print(sum)"
      ]
    },
    {
      "cell_type": "code",
      "source": [
        "N= int(input('Enter the number'))\n",
        "\n",
        "n= 0\n",
        "fact=  1\n",
        "\n",
        "for i in range(1,N+1):\n",
        "\n",
        "  fact= fact*i\n",
        "  n = n+i/fact\n",
        "\n",
        "print(n)\n"
      ],
      "metadata": {
        "colab": {
          "base_uri": "https://localhost:8080/"
        },
        "id": "njeeMeO6yq1N",
        "outputId": "9cbee8df-dcf3-419b-a3ef-73fa1a83cfaa"
      },
      "execution_count": null,
      "outputs": [
        {
          "output_type": "stream",
          "name": "stdout",
          "text": [
            "Enter the number2\n",
            "2.0\n"
          ]
        }
      ]
    },
    {
      "cell_type": "code",
      "source": [
        "for i in range (1,5):\n",
        "  for j in range(1,5):\n",
        "    print(i,j)"
      ],
      "metadata": {
        "colab": {
          "base_uri": "https://localhost:8080/"
        },
        "id": "VejtEFa2yrXs",
        "outputId": "7bc971d1-8673-49d4-f8e4-59f0eb90fa00"
      },
      "execution_count": null,
      "outputs": [
        {
          "output_type": "stream",
          "name": "stdout",
          "text": [
            "1 1\n",
            "1 2\n",
            "1 3\n",
            "1 4\n",
            "2 1\n",
            "2 2\n",
            "2 3\n",
            "2 4\n",
            "3 1\n",
            "3 2\n",
            "3 3\n",
            "3 4\n",
            "4 1\n",
            "4 2\n",
            "4 3\n",
            "4 4\n"
          ]
        }
      ]
    },
    {
      "cell_type": "code",
      "source": [
        "r= int(input('Enter no of rows'))\n",
        "\n",
        "for i in range(1,r+1):\n",
        "  for j in range(1,i+1):\n",
        "    print('*',end='')\n",
        "  print()\n"
      ],
      "metadata": {
        "colab": {
          "base_uri": "https://localhost:8080/"
        },
        "id": "r9J9mvXv4_SH",
        "outputId": "6e0c2e42-32de-4edd-fed3-3a813b858a58"
      },
      "execution_count": null,
      "outputs": [
        {
          "output_type": "stream",
          "name": "stdout",
          "text": [
            "Enter no of rows3\n",
            "*\n",
            "**\n",
            "***\n"
          ]
        }
      ]
    },
    {
      "cell_type": "code",
      "source": [
        "r= int(input('enter no of row'))\n",
        "\n",
        "for i in range(1,r+1):\n",
        "  for j in range(1,i+1):\n",
        "    print(j, end='')\n",
        "  for k in range(i-1,0,-1):\n",
        "      print(k, end= '')\n",
        "  print()"
      ],
      "metadata": {
        "colab": {
          "base_uri": "https://localhost:8080/"
        },
        "id": "OXCpO9Ni8yhz",
        "outputId": "8182366a-0a7d-4cc7-d00a-ec31d61d3ae1"
      },
      "execution_count": null,
      "outputs": [
        {
          "output_type": "stream",
          "name": "stdout",
          "text": [
            "enter no of row5\n",
            "1\n",
            "121\n",
            "12321\n",
            "1234321\n",
            "123454321\n"
          ]
        }
      ]
    },
    {
      "cell_type": "code",
      "source": [
        "5"
      ],
      "metadata": {
        "colab": {
          "base_uri": "https://localhost:8080/"
        },
        "id": "SyV2-jetAZAq",
        "outputId": "83be73ef-9313-4713-826c-55da027931bc"
      },
      "execution_count": null,
      "outputs": [
        {
          "output_type": "execute_result",
          "data": {
            "text/plain": [
              "5"
            ]
          },
          "metadata": {},
          "execution_count": 29
        }
      ]
    },
    {
      "cell_type": "code",
      "source": [
        "row= int(input('Enter rows'))\n",
        "for i in range(1,row+1):\n",
        "  for j in range(1,i+1):\n",
        "    print(j,end=' ')\n",
        "\n",
        "  for k in range(i-1,0,-1):\n",
        "    print(k, end=' ')\n",
        "  print()"
      ],
      "metadata": {
        "id": "cgYa2bymCwgM",
        "colab": {
          "base_uri": "https://localhost:8080/"
        },
        "outputId": "4f7f907c-9cbb-4541-ea3c-6887af3ac30f"
      },
      "execution_count": 13,
      "outputs": [
        {
          "output_type": "stream",
          "name": "stdout",
          "text": [
            "Enter rows4\n",
            "1 \n",
            "1 2 1 \n",
            "1 2 3 2 1 \n",
            "1 2 3 4 3 2 1 \n"
          ]
        }
      ]
    },
    {
      "cell_type": "code",
      "source": [
        "#get 10-100 range and print only prime numbers\n",
        "\n",
        "start_no= int(input('Enter the no.'))\n",
        "end_no= int(input('Enter the no.'))\n",
        "\n",
        "for i in range(start_no,end_no+1):\n",
        "  for j in range(2,i):\n",
        "    if i%j==0:\n",
        "      break\n",
        "  else:\n",
        "      print(i)\n"
      ],
      "metadata": {
        "colab": {
          "base_uri": "https://localhost:8080/"
        },
        "id": "fNjv6TFI2MC4",
        "outputId": "a677010f-d4ce-4609-ea1d-532719ad60eb"
      },
      "execution_count": 18,
      "outputs": [
        {
          "output_type": "stream",
          "name": "stdout",
          "text": [
            "Enter the no.10\n",
            "Enter the no.100\n",
            "11\n",
            "13\n",
            "17\n",
            "19\n",
            "23\n",
            "29\n",
            "31\n",
            "37\n",
            "41\n",
            "43\n",
            "47\n",
            "53\n",
            "59\n",
            "61\n",
            "67\n",
            "71\n",
            "73\n",
            "79\n",
            "83\n",
            "89\n",
            "97\n"
          ]
        }
      ]
    },
    {
      "cell_type": "code",
      "source": [
        "5//10"
      ],
      "metadata": {
        "colab": {
          "base_uri": "https://localhost:8080/"
        },
        "id": "qv5mY1wd6d37",
        "outputId": "c5cd26b2-4ea8-4067-b57c-a0734fb88ff1"
      },
      "execution_count": 15,
      "outputs": [
        {
          "output_type": "execute_result",
          "data": {
            "text/plain": [
              "0"
            ]
          },
          "metadata": {},
          "execution_count": 15
        }
      ]
    }
  ]
}