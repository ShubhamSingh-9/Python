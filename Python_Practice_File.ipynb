{
 "cells": [
  {
   "cell_type": "code",
   "execution_count": null,
   "metadata": {
    "colab": {
     "base_uri": "https://localhost:8080/"
    },
    "id": "vCrX2aVwudDn",
    "outputId": "e92cd37f-f91c-46f9-a0fc-2731189b76a6"
   },
   "outputs": [
    {
     "name": "stdout",
     "output_type": "stream",
     "text": [
      "Enter the number5\n",
      "15\n"
     ]
    }
   ],
   "source": [
    "n= int(input('Enter the number'))\n",
    "\n",
    "sum= 0\n",
    "for i in range (1,n+1):\n",
    "  sum= sum+i\n",
    "print(sum)"
   ]
  },
  {
   "cell_type": "code",
   "execution_count": null,
   "metadata": {
    "colab": {
     "base_uri": "https://localhost:8080/"
    },
    "id": "njeeMeO6yq1N",
    "outputId": "9cbee8df-dcf3-419b-a3ef-73fa1a83cfaa"
   },
   "outputs": [
    {
     "name": "stdout",
     "output_type": "stream",
     "text": [
      "Enter the number2\n",
      "2.0\n"
     ]
    }
   ],
   "source": [
    "N= int(input('Enter the number'))\n",
    "\n",
    "n= 0\n",
    "fact=  1\n",
    "\n",
    "for i in range(1,N+1):\n",
    "\n",
    "  fact= fact*i\n",
    "  n = n+i/fact\n",
    "\n",
    "print(n)\n"
   ]
  },
  {
   "cell_type": "code",
   "execution_count": null,
   "metadata": {
    "colab": {
     "base_uri": "https://localhost:8080/"
    },
    "id": "VejtEFa2yrXs",
    "outputId": "7bc971d1-8673-49d4-f8e4-59f0eb90fa00"
   },
   "outputs": [
    {
     "name": "stdout",
     "output_type": "stream",
     "text": [
      "1 1\n",
      "1 2\n",
      "1 3\n",
      "1 4\n",
      "2 1\n",
      "2 2\n",
      "2 3\n",
      "2 4\n",
      "3 1\n",
      "3 2\n",
      "3 3\n",
      "3 4\n",
      "4 1\n",
      "4 2\n",
      "4 3\n",
      "4 4\n"
     ]
    }
   ],
   "source": [
    "for i in range (1,5):\n",
    "  for j in range(1,5):\n",
    "    print(i,j)"
   ]
  },
  {
   "cell_type": "code",
   "execution_count": null,
   "metadata": {
    "colab": {
     "base_uri": "https://localhost:8080/"
    },
    "id": "r9J9mvXv4_SH",
    "outputId": "6e0c2e42-32de-4edd-fed3-3a813b858a58"
   },
   "outputs": [
    {
     "name": "stdout",
     "output_type": "stream",
     "text": [
      "Enter no of rows3\n",
      "*\n",
      "**\n",
      "***\n"
     ]
    }
   ],
   "source": [
    "r= int(input('Enter no of rows'))\n",
    "\n",
    "for i in range(1,r+1):\n",
    "  for j in range(1,i+1):\n",
    "    print('*',end='')\n",
    "  print()\n"
   ]
  },
  {
   "cell_type": "code",
   "execution_count": null,
   "metadata": {
    "colab": {
     "base_uri": "https://localhost:8080/"
    },
    "id": "OXCpO9Ni8yhz",
    "outputId": "8182366a-0a7d-4cc7-d00a-ec31d61d3ae1"
   },
   "outputs": [
    {
     "name": "stdout",
     "output_type": "stream",
     "text": [
      "enter no of row5\n",
      "1\n",
      "121\n",
      "12321\n",
      "1234321\n",
      "123454321\n"
     ]
    }
   ],
   "source": [
    "r= int(input('enter no of row'))\n",
    "\n",
    "for i in range(1,r+1):\n",
    "  for j in range(1,i+1):\n",
    "    print(j, end='')\n",
    "  for k in range(i-1,0,-1):\n",
    "      print(k, end= '')\n",
    "  print()"
   ]
  },
  {
   "cell_type": "code",
   "execution_count": null,
   "metadata": {
    "colab": {
     "base_uri": "https://localhost:8080/"
    },
    "id": "SyV2-jetAZAq",
    "outputId": "83be73ef-9313-4713-826c-55da027931bc"
   },
   "outputs": [
    {
     "data": {
      "text/plain": [
       "5"
      ]
     },
     "execution_count": 29,
     "metadata": {},
     "output_type": "execute_result"
    }
   ],
   "source": [
    "5"
   ]
  },
  {
   "cell_type": "code",
   "execution_count": null,
   "metadata": {
    "colab": {
     "base_uri": "https://localhost:8080/"
    },
    "id": "cgYa2bymCwgM",
    "outputId": "4f7f907c-9cbb-4541-ea3c-6887af3ac30f"
   },
   "outputs": [
    {
     "name": "stdout",
     "output_type": "stream",
     "text": [
      "Enter rows4\n",
      "1 \n",
      "1 2 1 \n",
      "1 2 3 2 1 \n",
      "1 2 3 4 3 2 1 \n"
     ]
    }
   ],
   "source": [
    "row= int(input('Enter rows'))\n",
    "for i in range(1,row+1):\n",
    "  for j in range(1,i+1):\n",
    "    print(j,end=' ')\n",
    "\n",
    "  for k in range(i-1,0,-1):\n",
    "    print(k, end=' ')\n",
    "  print()"
   ]
  },
  {
   "cell_type": "code",
   "execution_count": null,
   "metadata": {
    "colab": {
     "base_uri": "https://localhost:8080/"
    },
    "id": "fNjv6TFI2MC4",
    "outputId": "a677010f-d4ce-4609-ea1d-532719ad60eb"
   },
   "outputs": [
    {
     "name": "stdout",
     "output_type": "stream",
     "text": [
      "Enter the no.10\n",
      "Enter the no.100\n",
      "11\n",
      "13\n",
      "17\n",
      "19\n",
      "23\n",
      "29\n",
      "31\n",
      "37\n",
      "41\n",
      "43\n",
      "47\n",
      "53\n",
      "59\n",
      "61\n",
      "67\n",
      "71\n",
      "73\n",
      "79\n",
      "83\n",
      "89\n",
      "97\n"
     ]
    }
   ],
   "source": [
    "#get 10-100 range and print only prime numbers\n",
    "\n",
    "start_no= int(input('Enter the no.'))\n",
    "end_no= int(input('Enter the no.'))\n",
    "\n",
    "for i in range(start_no,end_no+1):\n",
    "  for j in range(2,i):\n",
    "    if i%j==0:\n",
    "      break\n",
    "  else:\n",
    "      print(i)\n"
   ]
  },
  {
   "cell_type": "code",
   "execution_count": null,
   "metadata": {
    "colab": {
     "base_uri": "https://localhost:8080/"
    },
    "id": "qv5mY1wd6d37",
    "outputId": "1a158bc7-a997-4260-988b-40b7c3fdd496"
   },
   "outputs": [
    {
     "name": "stdout",
     "output_type": "stream",
     "text": [
      "1\n",
      "2\n",
      "3\n",
      "4\n",
      "6\n",
      "7\n",
      "8\n",
      "9\n"
     ]
    }
   ],
   "source": [
    "#Continue\n",
    "\n",
    "for i in range(1,10):\n",
    "  if i==5:\n",
    "    continue\n",
    "  print(i)"
   ]
  },
  {
   "cell_type": "code",
   "execution_count": null,
   "metadata": {
    "id": "ZZa4DdhV2KMX"
   },
   "outputs": [],
   "source": [
    "for i in range(1,10):\n",
    "  pass"
   ]
  },
  {
   "cell_type": "code",
   "execution_count": null,
   "metadata": {
    "id": "417N8xNZ2KQO"
   },
   "outputs": [],
   "source": []
  },
  {
   "cell_type": "markdown",
   "metadata": {
    "id": "Mucqto8B4Oyp"
   },
   "source": [
    "#Strings and Sequences of Characters\n",
    "\n",
    "ASCI I String: Initially only 08 bit(max 256bits) was used for the coding but with time it was realised that  it too small to stire data nd with different time and language started using 16bits (2^16) was used by Unicode charatecters that can handle long data even emoies uses unicode.\n",
    "String is immutable in python.\n",
    "Arithmetic, Relational, Logical, Loops, membership are the operators that works with the string."
   ]
  },
  {
   "cell_type": "code",
   "execution_count": null,
   "metadata": {
    "colab": {
     "base_uri": "https://localhost:8080/"
    },
    "id": "G4k1A0TK2KXC",
    "outputId": "c5361c3f-517a-47ab-a291-33174d2a82f9"
   },
   "outputs": [
    {
     "name": "stdout",
     "output_type": "stream",
     "text": [
      "Hello It's like that ghjjagjaj    \n",
      "hjhhkhskha\n",
      "hjhhkh Hello\n"
     ]
    }
   ],
   "source": [
    "#Creating Strings\n",
    "\n",
    "s= 'Hello'  #' can be used\n",
    "\n",
    "y= \"It's like that\"   #\"to avoid ' or \" use \" or '\n",
    "\n",
    "#used for multiline strings\n",
    "z= '''ghjjagjaj\n",
    "hjhhkhskha\n",
    "hjhhkh'''\n",
    "g= str('Hello')\n",
    "print(s,y,z,g)"
   ]
  },
  {
   "cell_type": "code",
   "execution_count": null,
   "metadata": {
    "colab": {
     "base_uri": "https://localhost:8080/"
    },
    "id": "rmbBAo5D2KaI",
    "outputId": "e066b19e-dd62-4572-9d91-0d798581a716"
   },
   "outputs": [
    {
     "name": "stdout",
     "output_type": "stream",
     "text": [
      "e\n",
      "d\n",
      "Hello\n",
      "llo World\n",
      "Hel\n",
      "Hello World\n",
      "Hlo\n",
      "W olle\n",
      "Hello World\n",
      "World\n",
      "dlroW\n"
     ]
    }
   ],
   "source": [
    "#Indexing\n",
    "\n",
    "s= 'Hello World'\n",
    "\n",
    "#python assign index to all the string 0 to H 1 to e and l to 2 so on called postive indexing\n",
    "\n",
    "# We also have NEative Indexing\"\n",
    "# it move from right to left that strat with -1 from the end and and move towards right\n",
    "print(s[1])\n",
    "print(s[-1])\n",
    "\n",
    "#Now to extarct multiple characters we use Slicing\n",
    "print(s[0:5])\n",
    "\n",
    "print(s[2:])  #start from 2 and skips earlier Characteristics\n",
    "print(s[:3])   #means strat from 0 and print till n-1\n",
    "print(s[:])\n",
    "print(s[0:6:2]) #jump steps\n",
    "print(s[6:0:-1]) #-ve step size the first no must be big thn 2nd no.\n",
    "print(s[0:11])\n",
    "print(s[-5:])\n",
    "print(s[-1:-6:-1])"
   ]
  },
  {
   "cell_type": "code",
   "execution_count": null,
   "metadata": {
    "colab": {
     "base_uri": "https://localhost:8080/"
    },
    "id": "G0E1GTtm2KdU",
    "outputId": "e902cc9f-b94e-4acd-c0c6-84b20338704f"
   },
   "outputs": [
    {
     "name": "stdout",
     "output_type": "stream",
     "text": [
      "Hello World\n"
     ]
    }
   ],
   "source": [
    "print(s)"
   ]
  },
  {
   "cell_type": "code",
   "execution_count": null,
   "metadata": {
    "colab": {
     "base_uri": "https://localhost:8080/",
     "height": 199
    },
    "id": "vCa-LS_Z2KgZ",
    "outputId": "f880407f-ea40-40ee-bf6c-1b2147bf3da1"
   },
   "outputs": [
    {
     "ename": "NameError",
     "evalue": "ignored",
     "output_type": "error",
     "traceback": [
      "\u001b[0;31m---------------------------------------------------------------------------\u001b[0m",
      "\u001b[0;31mNameError\u001b[0m                                 Traceback (most recent call last)",
      "\u001b[0;32m<ipython-input-24-1c328f9dadc2>\u001b[0m in \u001b[0;36m<cell line: 1>\u001b[0;34m()\u001b[0m\n\u001b[0;32m----> 1\u001b[0;31m \u001b[0;32mdel\u001b[0m \u001b[0ms\u001b[0m\u001b[0;34m\u001b[0m\u001b[0;34m\u001b[0m\u001b[0m\n\u001b[0m\u001b[1;32m      2\u001b[0m \u001b[0mprint\u001b[0m\u001b[0;34m(\u001b[0m\u001b[0ms\u001b[0m\u001b[0;34m)\u001b[0m    \u001b[0;31m# string is not deleted but is stored in different way\u001b[0m\u001b[0;34m\u001b[0m\u001b[0;34m\u001b[0m\u001b[0m\n",
      "\u001b[0;31mNameError\u001b[0m: name 's' is not defined"
     ]
    }
   ],
   "source": [
    "del s\n",
    "print(s)    # string is not deleted but is stored in different way"
   ]
  },
  {
   "cell_type": "code",
   "execution_count": null,
   "metadata": {
    "colab": {
     "base_uri": "https://localhost:8080/"
    },
    "id": "5M-Zp5_e2KkD",
    "outputId": "f2cf307c-53c3-4bb3-8e76-3e02b8eccfbd"
   },
   "outputs": [
    {
     "name": "stdout",
     "output_type": "stream",
     "text": [
      "delhi Mumbai\n",
      "delhidelhidelhidelhidelhi\n"
     ]
    }
   ],
   "source": [
    "# Arithmetical Operator\n",
    "print('delhi'+ ' ' 'Mumbai')\n",
    "print('delhi'*5 )"
   ]
  },
  {
   "cell_type": "code",
   "execution_count": null,
   "metadata": {
    "colab": {
     "base_uri": "https://localhost:8080/"
    },
    "id": "FzN6qX2w2Knb",
    "outputId": "c19739c3-b4ad-4420-af42-dd6bbd918204"
   },
   "outputs": [
    {
     "data": {
      "text/plain": [
       "True"
      ]
     },
     "execution_count": 40,
     "metadata": {},
     "output_type": "execute_result"
    }
   ],
   "source": [
    "# Relational Operator\n",
    "\n",
    "'delhi'=='delhi'"
   ]
  },
  {
   "cell_type": "code",
   "execution_count": null,
   "metadata": {
    "colab": {
     "base_uri": "https://localhost:8080/"
    },
    "id": "IV8T2vHrYK_3",
    "outputId": "5ad799b7-f865-4783-ce68-f700848ef92f"
   },
   "outputs": [
    {
     "data": {
      "text/plain": [
       "False"
      ]
     },
     "execution_count": 41,
     "metadata": {},
     "output_type": "execute_result"
    }
   ],
   "source": [
    "'delhi'!='delhi'"
   ]
  },
  {
   "cell_type": "code",
   "execution_count": null,
   "metadata": {
    "colab": {
     "base_uri": "https://localhost:8080/"
    },
    "id": "McljPdboYLGz",
    "outputId": "7e99e2fe-579c-42f8-8f05-ce2fc2431b7e"
   },
   "outputs": [
    {
     "data": {
      "text/plain": [
       "False"
      ]
     },
     "execution_count": 42,
     "metadata": {},
     "output_type": "execute_result"
    }
   ],
   "source": [
    "'mumbai'>'pune' #comapring string lexiographically where the word comes later later use ASCII chart and small wods ae high value comapred to big value\n"
   ]
  },
  {
   "cell_type": "code",
   "execution_count": null,
   "metadata": {
    "colab": {
     "base_uri": "https://localhost:8080/"
    },
    "id": "bK9mGHm4YLN6",
    "outputId": "bda05f72-274e-4d7e-8c4b-16fde8a09f2b"
   },
   "outputs": [
    {
     "data": {
      "text/plain": [
       "False"
      ]
     },
     "execution_count": 43,
     "metadata": {},
     "output_type": "execute_result"
    }
   ],
   "source": [
    "'Pune'>'pune'"
   ]
  },
  {
   "cell_type": "code",
   "execution_count": null,
   "metadata": {
    "colab": {
     "base_uri": "https://localhost:8080/",
     "height": 36
    },
    "id": "VGJxEoOT2Kqs",
    "outputId": "b3f9fd5c-c9f9-4da0-a3f9-0cac79de9e9d"
   },
   "outputs": [
    {
     "data": {
      "application/vnd.google.colaboratory.intrinsic+json": {
       "type": "string"
      },
      "text/plain": [
       "'world'"
      ]
     },
     "execution_count": 36,
     "metadata": {},
     "output_type": "execute_result"
    }
   ],
   "source": [
    "''' string have chart is True and if empty is False so when both true for and its true and for\n",
    " or any one true its true. So when use or if have one string full its printed as it seen one\n",
    " true and  print it but for and he need to compare both the string so goes till end and print the last value.'''\n",
    "'Hello' and 'world'"
   ]
  },
  {
   "cell_type": "code",
   "execution_count": null,
   "metadata": {
    "colab": {
     "base_uri": "https://localhost:8080/",
     "height": 36
    },
    "id": "1O5ObpJN2KuM",
    "outputId": "0daba6ca-2a7b-495a-8056-928b914a983a"
   },
   "outputs": [
    {
     "data": {
      "application/vnd.google.colaboratory.intrinsic+json": {
       "type": "string"
      },
      "text/plain": [
       "''"
      ]
     },
     "execution_count": 37,
     "metadata": {},
     "output_type": "execute_result"
    }
   ],
   "source": [
    "'' and 'world'"
   ]
  },
  {
   "cell_type": "code",
   "execution_count": null,
   "metadata": {
    "colab": {
     "base_uri": "https://localhost:8080/",
     "height": 36
    },
    "id": "OXTdNCz42KxV",
    "outputId": "395e794c-dfbf-47d2-fb3b-eeb5d57d0acf"
   },
   "outputs": [
    {
     "data": {
      "application/vnd.google.colaboratory.intrinsic+json": {
       "type": "string"
      },
      "text/plain": [
       "'Hello'"
      ]
     },
     "execution_count": 38,
     "metadata": {},
     "output_type": "execute_result"
    }
   ],
   "source": [
    "'Hello' or 'world'"
   ]
  },
  {
   "cell_type": "code",
   "execution_count": null,
   "metadata": {
    "colab": {
     "base_uri": "https://localhost:8080/",
     "height": 36
    },
    "id": "j0-r8CVF2K2E",
    "outputId": "0b4e084b-6f19-468b-eacf-b01d25d40d72"
   },
   "outputs": [
    {
     "data": {
      "application/vnd.google.colaboratory.intrinsic+json": {
       "type": "string"
      },
      "text/plain": [
       "'world'"
      ]
     },
     "execution_count": 39,
     "metadata": {},
     "output_type": "execute_result"
    }
   ],
   "source": [
    "\"\" or 'world'"
   ]
  },
  {
   "cell_type": "code",
   "execution_count": null,
   "metadata": {
    "colab": {
     "base_uri": "https://localhost:8080/"
    },
    "id": "TrN4t1VGZjSy",
    "outputId": "69003025-5a89-4ad5-fcd2-a8ad15a39afe"
   },
   "outputs": [
    {
     "data": {
      "text/plain": [
       "True"
      ]
     },
     "execution_count": 45,
     "metadata": {},
     "output_type": "execute_result"
    }
   ],
   "source": [
    "not ''"
   ]
  },
  {
   "cell_type": "code",
   "execution_count": null,
   "metadata": {
    "colab": {
     "base_uri": "https://localhost:8080/"
    },
    "id": "dEjU94qyZqS-",
    "outputId": "dfcc59e2-2294-4311-83d7-1d302a5b7c03"
   },
   "outputs": [
    {
     "data": {
      "text/plain": [
       "False"
      ]
     },
     "execution_count": 47,
     "metadata": {},
     "output_type": "execute_result"
    }
   ],
   "source": [
    "not 'Hello'"
   ]
  },
  {
   "cell_type": "code",
   "execution_count": null,
   "metadata": {
    "colab": {
     "base_uri": "https://localhost:8080/"
    },
    "id": "3S8ADwWrZuGQ",
    "outputId": "a0fdae32-a121-4434-bdb7-b325d82cf7d1"
   },
   "outputs": [
    {
     "name": "stdout",
     "output_type": "stream",
     "text": [
      "h\n",
      "e\n",
      "l\n",
      "l\n",
      "o\n"
     ]
    }
   ],
   "source": [
    "# Itterable\n",
    "for i in 'hello':\n",
    "  print(i)"
   ]
  },
  {
   "cell_type": "code",
   "execution_count": null,
   "metadata": {
    "colab": {
     "base_uri": "https://localhost:8080/"
    },
    "id": "jC900zIUaNh4",
    "outputId": "71483f94-211b-415b-9e1d-019b5d1d9f46"
   },
   "outputs": [
    {
     "name": "stdout",
     "output_type": "stream",
     "text": [
      "pune\n",
      "pune\n",
      "pune\n",
      "pune\n",
      "pune\n"
     ]
    }
   ],
   "source": [
    "for i in 'delhi':\n",
    "  print('pune')  # as delhi is 5 it print 5 times pune"
   ]
  },
  {
   "cell_type": "code",
   "execution_count": null,
   "metadata": {
    "colab": {
     "base_uri": "https://localhost:8080/"
    },
    "id": "561dwpyaaNlz",
    "outputId": "13105cb9-8cb4-46a5-f83d-4cdbe5b6c8fc"
   },
   "outputs": [
    {
     "data": {
      "text/plain": [
       "False"
      ]
     },
     "execution_count": 51,
     "metadata": {},
     "output_type": "execute_result"
    }
   ],
   "source": [
    "# Membership Opertaor\n",
    "\n",
    "'D' in 'delhi'  #python is case sensitive\n"
   ]
  },
  {
   "cell_type": "code",
   "execution_count": null,
   "metadata": {
    "colab": {
     "base_uri": "https://localhost:8080/"
    },
    "id": "wm_PVSEPaOFs",
    "outputId": "783b0843-8153-49f0-ab44-c2eeb80b3a2e"
   },
   "outputs": [
    {
     "data": {
      "text/plain": [
       "True"
      ]
     },
     "execution_count": 52,
     "metadata": {},
     "output_type": "execute_result"
    }
   ],
   "source": [
    "'D' in 'Delhi'"
   ]
  },
  {
   "cell_type": "markdown",
   "metadata": {
    "id": "STGc2z4qa94w"
   },
   "source": [
    "Function\n",
    "Commenly used (can be sed in tuples, list,set,dictonary, strings)\n",
    "len\n",
    "max\n",
    "min\n",
    "sorted"
   ]
  },
  {
   "cell_type": "code",
   "execution_count": null,
   "metadata": {
    "colab": {
     "base_uri": "https://localhost:8080/"
    },
    "id": "0_8CEsH-aOIU",
    "outputId": "fb5db271-8d81-4e52-c476-09bb2794f84a"
   },
   "outputs": [
    {
     "data": {
      "text/plain": [
       "5"
      ]
     },
     "execution_count": 54,
     "metadata": {},
     "output_type": "execute_result"
    }
   ],
   "source": [
    "len('hello')"
   ]
  },
  {
   "cell_type": "code",
   "execution_count": null,
   "metadata": {
    "colab": {
     "base_uri": "https://localhost:8080/",
     "height": 36
    },
    "id": "M7mcncN-aONq",
    "outputId": "d4add340-caef-42e4-ead8-27927cd36517"
   },
   "outputs": [
    {
     "data": {
      "application/vnd.google.colaboratory.intrinsic+json": {
       "type": "string"
      },
      "text/plain": [
       "'o'"
      ]
     },
     "execution_count": 55,
     "metadata": {},
     "output_type": "execute_result"
    }
   ],
   "source": [
    "max('hello') #max cahrate on aSCii"
   ]
  },
  {
   "cell_type": "code",
   "execution_count": null,
   "metadata": {
    "colab": {
     "base_uri": "https://localhost:8080/",
     "height": 36
    },
    "id": "tJigjJIvaOQw",
    "outputId": "b30d55b3-2551-49b4-a5d0-fc81569727a0"
   },
   "outputs": [
    {
     "data": {
      "application/vnd.google.colaboratory.intrinsic+json": {
       "type": "string"
      },
      "text/plain": [
       "' '"
      ]
     },
     "execution_count": 56,
     "metadata": {},
     "output_type": "execute_result"
    }
   ],
   "source": [
    "min('hello world')"
   ]
  },
  {
   "cell_type": "code",
   "execution_count": null,
   "metadata": {
    "colab": {
     "base_uri": "https://localhost:8080/"
    },
    "id": "RFPidUVRaOT5",
    "outputId": "5bd4ac66-17b4-4f2d-826f-be658bcc0128"
   },
   "outputs": [
    {
     "data": {
      "text/plain": [
       "[' ', 'd', 'e', 'h', 'l', 'l', 'l', 'o', 'o', 'r', 'w']"
      ]
     },
     "execution_count": 57,
     "metadata": {},
     "output_type": "execute_result"
    }
   ],
   "source": [
    "sorted('hello world') #organized in ascending order as per ASCII value"
   ]
  },
  {
   "cell_type": "code",
   "execution_count": null,
   "metadata": {
    "colab": {
     "base_uri": "https://localhost:8080/"
    },
    "id": "RC7qzw0eaOXa",
    "outputId": "1adbbace-04ce-437c-8dea-1fa056bd7407"
   },
   "outputs": [
    {
     "data": {
      "text/plain": [
       "['w', 'r', 'o', 'o', 'l', 'l', 'l', 'h', 'e', 'd', ' ']"
      ]
     },
     "execution_count": 58,
     "metadata": {},
     "output_type": "execute_result"
    }
   ],
   "source": [
    "sorted('hello world', reverse=True) #organized in desc order as per ASCII value"
   ]
  },
  {
   "cell_type": "code",
   "execution_count": null,
   "metadata": {
    "id": "7jJOYpShaOan"
   },
   "outputs": [],
   "source": []
  },
  {
   "cell_type": "markdown",
   "metadata": {
    "id": "eVzFibdxeDY7"
   },
   "source": [
    "Capitalize/Title/Upper/Lower/Swapcase only on strings."
   ]
  },
  {
   "cell_type": "code",
   "execution_count": null,
   "metadata": {
    "colab": {
     "base_uri": "https://localhost:8080/",
     "height": 36
    },
    "id": "VEYDG_lFaOeI",
    "outputId": "c563034e-8d2f-479c-f90d-8db39e8c1712"
   },
   "outputs": [
    {
     "data": {
      "application/vnd.google.colaboratory.intrinsic+json": {
       "type": "string"
      },
      "text/plain": [
       "'Hello world'"
      ]
     },
     "execution_count": 61,
     "metadata": {},
     "output_type": "execute_result"
    }
   ],
   "source": [
    "s= 'Hello world'  #nothing is changed in the oriinal string its just ouput original is same\n",
    "s.capitalize()"
   ]
  },
  {
   "cell_type": "code",
   "execution_count": null,
   "metadata": {
    "colab": {
     "base_uri": "https://localhost:8080/",
     "height": 36
    },
    "id": "F1hibQHOaOhr",
    "outputId": "3a7b313a-dffa-4c6b-c605-81a8a2105039"
   },
   "outputs": [
    {
     "data": {
      "application/vnd.google.colaboratory.intrinsic+json": {
       "type": "string"
      },
      "text/plain": [
       "'Hello World'"
      ]
     },
     "execution_count": 62,
     "metadata": {},
     "output_type": "execute_result"
    }
   ],
   "source": [
    "s.title()"
   ]
  },
  {
   "cell_type": "code",
   "execution_count": null,
   "metadata": {
    "colab": {
     "base_uri": "https://localhost:8080/",
     "height": 36
    },
    "id": "Q0uT_tD2aOk2",
    "outputId": "af4ae647-0bce-426e-d56e-6189a0cb697d"
   },
   "outputs": [
    {
     "data": {
      "application/vnd.google.colaboratory.intrinsic+json": {
       "type": "string"
      },
      "text/plain": [
       "'HELLO WORLD'"
      ]
     },
     "execution_count": 63,
     "metadata": {},
     "output_type": "execute_result"
    }
   ],
   "source": [
    "s.upper()"
   ]
  },
  {
   "cell_type": "code",
   "execution_count": null,
   "metadata": {
    "colab": {
     "base_uri": "https://localhost:8080/",
     "height": 36
    },
    "id": "nKWAkLS9aOoP",
    "outputId": "49015f3c-ed7b-477f-d131-34eb6a181b4a"
   },
   "outputs": [
    {
     "data": {
      "application/vnd.google.colaboratory.intrinsic+json": {
       "type": "string"
      },
      "text/plain": [
       "'hello world'"
      ]
     },
     "execution_count": 64,
     "metadata": {},
     "output_type": "execute_result"
    }
   ],
   "source": [
    "s.lower()"
   ]
  },
  {
   "cell_type": "code",
   "execution_count": null,
   "metadata": {
    "colab": {
     "base_uri": "https://localhost:8080/",
     "height": 36
    },
    "id": "b9Sx8Vz4aOvp",
    "outputId": "ff6293d2-aa40-47b1-a48e-456cd4934272"
   },
   "outputs": [
    {
     "data": {
      "application/vnd.google.colaboratory.intrinsic+json": {
       "type": "string"
      },
      "text/plain": [
       "'hElLO'"
      ]
     },
     "execution_count": 65,
     "metadata": {},
     "output_type": "execute_result"
    }
   ],
   "source": [
    "'HeLlo'.swapcase()"
   ]
  },
  {
   "cell_type": "code",
   "execution_count": null,
   "metadata": {
    "id": "TMgPol3TaO0P"
   },
   "outputs": [],
   "source": []
  },
  {
   "cell_type": "markdown",
   "metadata": {
    "id": "-5zWmCjMeyp6"
   },
   "source": [
    "Count/Find/Index"
   ]
  },
  {
   "cell_type": "code",
   "execution_count": null,
   "metadata": {
    "colab": {
     "base_uri": "https://localhost:8080/"
    },
    "id": "ZMSEtdGLaO4q",
    "outputId": "13f07b50-d37d-4a99-80e3-800fba399a16"
   },
   "outputs": [
    {
     "data": {
      "text/plain": [
       "2"
      ]
     },
     "execution_count": 67,
     "metadata": {},
     "output_type": "execute_result"
    }
   ],
   "source": [
    "'hello'.count('l')"
   ]
  },
  {
   "cell_type": "code",
   "execution_count": null,
   "metadata": {
    "colab": {
     "base_uri": "https://localhost:8080/"
    },
    "id": "YokybsOwaO9F",
    "outputId": "cab5632e-b4dd-4551-830b-910432388b19"
   },
   "outputs": [
    {
     "data": {
      "text/plain": [
       "2"
      ]
     },
     "execution_count": 68,
     "metadata": {},
     "output_type": "execute_result"
    }
   ],
   "source": [
    "'hello'.find('l')"
   ]
  },
  {
   "cell_type": "code",
   "execution_count": null,
   "metadata": {
    "colab": {
     "base_uri": "https://localhost:8080/"
    },
    "id": "GHjAZLe1aPBQ",
    "outputId": "e8c9e16d-25ab-4be1-c76d-c55967e3f264"
   },
   "outputs": [
    {
     "data": {
      "text/plain": [
       "-1"
      ]
     },
     "execution_count": 70,
     "metadata": {},
     "output_type": "execute_result"
    }
   ],
   "source": [
    "'hello'.find('a') #as a doesnt exists it return -1 as unable to search"
   ]
  },
  {
   "cell_type": "code",
   "execution_count": null,
   "metadata": {
    "colab": {
     "base_uri": "https://localhost:8080/",
     "height": 217
    },
    "id": "N3JdeKdwaPFs",
    "outputId": "9d5a9b27-afdc-40af-d5c8-97f66bcd9312"
   },
   "outputs": [
    {
     "ename": "ValueError",
     "evalue": "ignored",
     "output_type": "error",
     "traceback": [
      "\u001b[0;31m---------------------------------------------------------------------------\u001b[0m",
      "\u001b[0;31mValueError\u001b[0m                                Traceback (most recent call last)",
      "\u001b[0;32m<ipython-input-71-89d880445df2>\u001b[0m in \u001b[0;36m<cell line: 3>\u001b[0;34m()\u001b[0m\n\u001b[1;32m      1\u001b[0m \u001b[0;31m#index is same as find it return error if some is not in he va;ue\u001b[0m\u001b[0;34m\u001b[0m\u001b[0;34m\u001b[0m\u001b[0m\n\u001b[1;32m      2\u001b[0m \u001b[0;34m\u001b[0m\u001b[0m\n\u001b[0;32m----> 3\u001b[0;31m \u001b[0;34m'hllo'\u001b[0m\u001b[0;34m.\u001b[0m\u001b[0mindex\u001b[0m\u001b[0;34m(\u001b[0m\u001b[0;34m'a'\u001b[0m\u001b[0;34m)\u001b[0m\u001b[0;34m\u001b[0m\u001b[0;34m\u001b[0m\u001b[0m\n\u001b[0m",
      "\u001b[0;31mValueError\u001b[0m: substring not found"
     ]
    }
   ],
   "source": [
    "#index is same as find it return error if some is not in he va;ue\n",
    "\n",
    "'hllo'.index('a')"
   ]
  },
  {
   "cell_type": "code",
   "execution_count": null,
   "metadata": {
    "id": "J6Q4O4WMgmNJ"
   },
   "outputs": [],
   "source": []
  },
  {
   "cell_type": "markdown",
   "metadata": {
    "id": "VUbxVLJsgnzt"
   },
   "source": [
    "endswith/strat with"
   ]
  },
  {
   "cell_type": "code",
   "execution_count": null,
   "metadata": {
    "colab": {
     "base_uri": "https://localhost:8080/"
    },
    "id": "_nT9CI0RgmQL",
    "outputId": "5e679d74-1288-4a81-9c5f-1929adf61400"
   },
   "outputs": [
    {
     "data": {
      "text/plain": [
       "True"
      ]
     },
     "execution_count": 74,
     "metadata": {},
     "output_type": "execute_result"
    }
   ],
   "source": [
    "'my name is'.endswith('is')\n"
   ]
  },
  {
   "cell_type": "code",
   "execution_count": null,
   "metadata": {
    "colab": {
     "base_uri": "https://localhost:8080/"
    },
    "id": "TSIT9C7HgmTS",
    "outputId": "83673c5a-a94d-4134-d7fc-b42a5d6cd887"
   },
   "outputs": [
    {
     "data": {
      "text/plain": [
       "False"
      ]
     },
     "execution_count": 75,
     "metadata": {},
     "output_type": "execute_result"
    }
   ],
   "source": [
    "'my name is'.startswith('is')"
   ]
  },
  {
   "cell_type": "markdown",
   "metadata": {
    "id": "xRLetML5g8sL"
   },
   "source": [
    "Format\n"
   ]
  },
  {
   "cell_type": "code",
   "execution_count": null,
   "metadata": {
    "colab": {
     "base_uri": "https://localhost:8080/",
     "height": 36
    },
    "id": "icx43uSKgmVy",
    "outputId": "4c7ff69b-10e3-4f97-99f3-d416c10c01ab"
   },
   "outputs": [
    {
     "data": {
      "application/vnd.google.colaboratory.intrinsic+json": {
       "type": "string"
      },
      "text/plain": [
       "'Hi my name is Shubham and am Male'"
      ]
     },
     "execution_count": 80,
     "metadata": {},
     "output_type": "execute_result"
    }
   ],
   "source": [
    "name = 'Shubham'\n",
    "Gender= 'Male'\n",
    "\n",
    "'Hi my name is {0} and am {1}'.format(name,Gender) #order matters"
   ]
  },
  {
   "cell_type": "markdown",
   "metadata": {
    "id": "THewO0rVhdju"
   },
   "source": [
    "isalnum/isalpha/isdigit/isidentifier"
   ]
  },
  {
   "cell_type": "code",
   "execution_count": null,
   "metadata": {
    "colab": {
     "base_uri": "https://localhost:8080/"
    },
    "id": "xh4RkRcDgmYT",
    "outputId": "c03b58dd-919c-40ac-bad2-739c11da5dfb"
   },
   "outputs": [
    {
     "data": {
      "text/plain": [
       "True"
      ]
     },
     "execution_count": 81,
     "metadata": {},
     "output_type": "execute_result"
    }
   ],
   "source": [
    "'shu123'.isalnum()"
   ]
  },
  {
   "cell_type": "code",
   "execution_count": null,
   "metadata": {
    "colab": {
     "base_uri": "https://localhost:8080/"
    },
    "id": "n1CwNyX6gmbc",
    "outputId": "7859d661-14db-4644-9ec3-8096b8be6185"
   },
   "outputs": [
    {
     "data": {
      "text/plain": [
       "False"
      ]
     },
     "execution_count": 82,
     "metadata": {},
     "output_type": "execute_result"
    }
   ],
   "source": [
    "'123'.isalpha() #only alpha is true"
   ]
  },
  {
   "cell_type": "code",
   "execution_count": null,
   "metadata": {
    "colab": {
     "base_uri": "https://localhost:8080/"
    },
    "id": "iaYDXWqtgmeS",
    "outputId": "e2d4658f-e3c3-437a-8382-2e1d9503f4bc"
   },
   "outputs": [
    {
     "data": {
      "text/plain": [
       "True"
      ]
     },
     "execution_count": 83,
     "metadata": {},
     "output_type": "execute_result"
    }
   ],
   "source": [
    "'123'.isdigit()"
   ]
  },
  {
   "cell_type": "code",
   "execution_count": null,
   "metadata": {
    "colab": {
     "base_uri": "https://localhost:8080/"
    },
    "id": "3KzQ65OLgmhF",
    "outputId": "7d9cc162-9d3b-4955-f282-9cdaea1c1129"
   },
   "outputs": [
    {
     "data": {
      "text/plain": [
       "False"
      ]
     },
     "execution_count": 84,
     "metadata": {},
     "output_type": "execute_result"
    }
   ],
   "source": [
    "'1name'.isidentifier()"
   ]
  },
  {
   "cell_type": "markdown",
   "metadata": {
    "id": "7CeTHshZiUJQ"
   },
   "source": [
    "Split/Join"
   ]
  },
  {
   "cell_type": "code",
   "execution_count": null,
   "metadata": {
    "colab": {
     "base_uri": "https://localhost:8080/"
    },
    "id": "ME7lnISEgmkJ",
    "outputId": "b949a5a4-9180-4d1d-ce98-7423fc3541e8"
   },
   "outputs": [
    {
     "data": {
      "text/plain": [
       "['hi', 'my', 'name', 'is', 'Shubham']"
      ]
     },
     "execution_count": 85,
     "metadata": {},
     "output_type": "execute_result"
    }
   ],
   "source": [
    "'hi my name is Shubham'.split()  #break ad store in a list if nothing passed it break as space"
   ]
  },
  {
   "cell_type": "code",
   "execution_count": null,
   "metadata": {
    "colab": {
     "base_uri": "https://localhost:8080/"
    },
    "id": "pKTWaLmVgmmf",
    "outputId": "24514ef4-ea70-434b-dc95-5246e71aa0e3"
   },
   "outputs": [
    {
     "data": {
      "text/plain": [
       "['h', ' my name ', 's Shubham']"
      ]
     },
     "execution_count": 86,
     "metadata": {},
     "output_type": "execute_result"
    }
   ],
   "source": [
    "'hi my name is Shubham'.split('i')  #break ad store in a list"
   ]
  },
  {
   "cell_type": "code",
   "execution_count": null,
   "metadata": {
    "colab": {
     "base_uri": "https://localhost:8080/",
     "height": 36
    },
    "id": "FlvJ5k1kgmpO",
    "outputId": "f3a64db0-b9c5-453d-e58b-09aeec2403f9"
   },
   "outputs": [
    {
     "data": {
      "application/vnd.google.colaboratory.intrinsic+json": {
       "type": "string"
      },
      "text/plain": [
       "'hi my name is Shubham'"
      ]
     },
     "execution_count": 87,
     "metadata": {},
     "output_type": "execute_result"
    }
   ],
   "source": [
    "\" \".join(['hi', 'my', 'name', 'is', 'Shubham']) # join the list with \" \" as before .join we siad \" \" if said - it will be repalced by that"
   ]
  },
  {
   "cell_type": "markdown",
   "metadata": {
    "id": "Q4LrZGE0jEFq"
   },
   "source": [
    "Replace"
   ]
  },
  {
   "cell_type": "code",
   "execution_count": null,
   "metadata": {
    "colab": {
     "base_uri": "https://localhost:8080/",
     "height": 36
    },
    "id": "ttavVyIFgmr3",
    "outputId": "ffe6d937-f39b-4fa2-c2f6-dc760eb51fe4"
   },
   "outputs": [
    {
     "data": {
      "application/vnd.google.colaboratory.intrinsic+json": {
       "type": "string"
      },
      "text/plain": [
       "'hi anme is shubham and work in London'"
      ]
     },
     "execution_count": 90,
     "metadata": {},
     "output_type": "execute_result"
    }
   ],
   "source": [
    "'hi anme is shubham'.replace('shubham','shubham and work in London')"
   ]
  },
  {
   "cell_type": "markdown",
   "metadata": {
    "id": "vopxwjhVjTx2"
   },
   "source": [
    "Strip"
   ]
  },
  {
   "cell_type": "code",
   "execution_count": null,
   "metadata": {
    "colab": {
     "base_uri": "https://localhost:8080/",
     "height": 36
    },
    "id": "sWbH86JKgmuQ",
    "outputId": "5d30603f-fe2e-494e-89d3-fb20e439947a"
   },
   "outputs": [
    {
     "data": {
      "application/vnd.google.colaboratory.intrinsic+json": {
       "type": "string"
      },
      "text/plain": [
       "'SHubham'"
      ]
     },
     "execution_count": 91,
     "metadata": {},
     "output_type": "execute_result"
    }
   ],
   "source": [
    "'SHubham          '.strip() #to remove he space only from he end\n"
   ]
  },
  {
   "cell_type": "code",
   "execution_count": 7,
   "metadata": {
    "colab": {
     "base_uri": "https://localhost:8080/"
    },
    "id": "fivWeSz6gm4C",
    "outputId": "c78f12b3-b531-4c0a-dc95-d698d8d60677"
   },
   "outputs": [
    {
     "name": "stdout",
     "output_type": "stream",
     "text": [
      "Enter the stringhello\n",
      "5\n"
     ]
    }
   ],
   "source": [
    "s= input('Enter the string')\n",
    "count= 0\n",
    "for i in s:\n",
    "  count += 1\n",
    "print(count)"
   ]
  },
  {
   "cell_type": "code",
   "execution_count": 8,
   "metadata": {
    "colab": {
     "base_uri": "https://localhost:8080/"
    },
    "id": "75OLz8yygm6-",
    "outputId": "11e91e52-41a8-4448-bd78-c708211d88d9"
   },
   "outputs": [
    {
     "name": "stdout",
     "output_type": "stream",
     "text": [
      "Enter the email IDhello@\n",
      "hello\n"
     ]
    }
   ],
   "source": [
    "s= input('Enter the email ID')\n",
    "\n",
    "pos= s.index('@')\n",
    "\n",
    "print(s[0:pos])"
   ]
  },
  {
   "cell_type": "code",
   "execution_count": 9,
   "metadata": {
    "colab": {
     "base_uri": "https://localhost:8080/"
    },
    "id": "wmpuOv7dgm9g",
    "outputId": "93b76e0b-aef8-458d-ebc6-a19ba4f22a34"
   },
   "outputs": [
    {
     "name": "stdout",
     "output_type": "stream",
     "text": [
      "Enter the stringhello\n",
      "Enter the term to searchl\n",
      "2\n"
     ]
    }
   ],
   "source": [
    "from sys import set_coroutine_origin_tracking_depth\n",
    "s= input('Enter the string')\n",
    "search= input('Enter the term to search')\n",
    "\n",
    "counter = 0\n",
    "for i in s:\n",
    "  if i==search:\n",
    "    counter += 1\n",
    "print (counter)"
   ]
  },
  {
   "cell_type": "code",
   "execution_count": 14,
   "metadata": {
    "colab": {
     "base_uri": "https://localhost:8080/"
    },
    "id": "esMpv5szgnAk",
    "outputId": "85473c6c-d162-463c-92dc-b4dd8dfe4d98"
   },
   "outputs": [
    {
     "name": "stdout",
     "output_type": "stream",
     "text": [
      "Enter the Stringhello\n",
      "Character you want to deletel\n",
      " heo\n"
     ]
    }
   ],
   "source": [
    "#from ast import Del\n",
    "#remove character from the string\n",
    "\n",
    "s= input('Enter the String')\n",
    "de = input('Character you want to delete')\n",
    "\n",
    "result = \" \"\n",
    "for i in s:\n",
    "  if i != de:\n",
    "    result += i\n",
    "print(result)"
   ]
  },
  {
   "cell_type": "code",
   "execution_count": 27,
   "metadata": {
    "colab": {
     "base_uri": "https://localhost:8080/"
    },
    "id": "BesuCLQognGk",
    "outputId": "e7964688-56fd-4189-f29c-bc2e41c9d051"
   },
   "outputs": [
    {
     "name": "stdout",
     "output_type": "stream",
     "text": [
      "Enter a word: abba\n",
      "The word is a palindrome.\n"
     ]
    }
   ],
   "source": [
    "#find Palindrome read same from start or end\n",
    "\n",
    "# Taking user input\n",
    "user_input = input(\"Enter a word: \")\n",
    "\n",
    "# Convert the word to lowercase to make the comparison case-insensitive\n",
    "#word = user_input.lower()\n",
    "\n",
    "# Reverse the word\n",
    "reversed_word = user_input[::-1]\n",
    "\n",
    "# Check if the original and reversed words are the same\n",
    "if user_input == reversed_word:\n",
    "    print(\"The word is a palindrome.\")\n",
    "else:\n",
    "    print(\"The word is not a palindrome.\")"
   ]
  },
  {
   "cell_type": "code",
   "execution_count": 26,
   "metadata": {
    "colab": {
     "base_uri": "https://localhost:8080/"
    },
    "id": "e7WC4JxygnJh",
    "outputId": "a65c1df1-ebe0-4207-889f-298cfa22d7e7"
   },
   "outputs": [
    {
     "data": {
      "text/plain": [
       "2"
      ]
     },
     "execution_count": 26,
     "metadata": {},
     "output_type": "execute_result"
    }
   ],
   "source": [
    "s=input('Enter the string')\n",
    "d= ' '\n",
    "\n",
    "result=[]\n",
    "current_word= '   '\n",
    "\n",
    "for i in s:\n"
   ]
  },
  {
   "cell_type": "code",
   "execution_count": 29,
   "metadata": {
    "colab": {
     "base_uri": "https://localhost:8080/"
    },
    "id": "HNcEy3cQgnMP",
    "outputId": "22f20c29-ed16-44e5-c97c-fe3e379d6066"
   },
   "outputs": [
    {
     "name": "stdout",
     "output_type": "stream",
     "text": [
      "Enter the stringhi hello bye\n",
      "Hi Hello Bye\n"
     ]
    }
   ],
   "source": [
    "s= input('Enter the string')\n",
    "L=[]\n",
    "\n",
    "for i in s.split():\n",
    "  L.append(i[0].upper()+i[1:].lower())\n",
    "print(' '.join(L))"
   ]
  },
  {
   "cell_type": "code",
   "execution_count": 2,
   "metadata": {
    "id": "ri76n673f8jP"
   },
   "outputs": [
    {
     "data": {
      "text/plain": [
       "34"
      ]
     },
     "execution_count": 2,
     "metadata": {},
     "output_type": "execute_result"
    }
   ],
   "source": [
    "345//10"
   ]
  },
  {
   "cell_type": "code",
   "execution_count": 3,
   "metadata": {},
   "outputs": [
    {
     "data": {
      "text/plain": [
       "5"
      ]
     },
     "execution_count": 3,
     "metadata": {},
     "output_type": "execute_result"
    }
   ],
   "source": [
    "345%10"
   ]
  },
  {
   "cell_type": "code",
   "execution_count": 11,
   "metadata": {},
   "outputs": [
    {
     "name": "stdout",
     "output_type": "stream",
     "text": [
      "Enter the 03 digit no45678\n",
      "87654\n"
     ]
    }
   ],
   "source": [
    "no=int(input('Enter the 03 digit no'))\n",
    "r=0\n",
    "while no!=0:\n",
    "    digit= no%10\n",
    "    r=r*10+digit\n",
    "    no=no//10\n",
    "print(r)    \n"
   ]
  },
  {
   "cell_type": "code",
   "execution_count": 17,
   "metadata": {},
   "outputs": [
    {
     "name": "stdout",
     "output_type": "stream",
     "text": [
      "Enter the no. to sum345\n",
      "12\n"
     ]
    }
   ],
   "source": [
    "no= int(input('Enter the no. to sum'))\n",
    "sum=0\n",
    "digit= '0123456789'\n",
    "\n",
    "while no!=0:\n",
    "    sum = no%10+sum\n",
    "    no= no//10\n",
    "print(sum)    "
   ]
  },
  {
   "cell_type": "code",
   "execution_count": null,
   "metadata": {},
   "outputs": [],
   "source": []
  }
 ],
 "metadata": {
  "colab": {
   "provenance": []
  },
  "kernelspec": {
   "display_name": "Python 3 (ipykernel)",
   "language": "python",
   "name": "python3"
  },
  "language_info": {
   "codemirror_mode": {
    "name": "ipython",
    "version": 3
   },
   "file_extension": ".py",
   "mimetype": "text/x-python",
   "name": "python",
   "nbconvert_exporter": "python",
   "pygments_lexer": "ipython3",
   "version": "3.10.11"
  }
 },
 "nbformat": 4,
 "nbformat_minor": 1
}
