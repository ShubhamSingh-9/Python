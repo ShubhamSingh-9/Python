{
  "nbformat": 4,
  "nbformat_minor": 0,
  "metadata": {
    "colab": {
      "provenance": []
    },
    "kernelspec": {
      "name": "python3",
      "display_name": "Python 3"
    },
    "language_info": {
      "name": "python"
    }
  },
  "cells": [
    {
      "cell_type": "code",
      "execution_count": null,
      "metadata": {
        "colab": {
          "base_uri": "https://localhost:8080/"
        },
        "id": "vCrX2aVwudDn",
        "outputId": "e92cd37f-f91c-46f9-a0fc-2731189b76a6"
      },
      "outputs": [
        {
          "output_type": "stream",
          "name": "stdout",
          "text": [
            "Enter the number5\n",
            "15\n"
          ]
        }
      ],
      "source": [
        "n= int(input('Enter the number'))\n",
        "\n",
        "sum= 0\n",
        "for i in range (1,n+1):\n",
        "  sum= sum+i\n",
        "print(sum)"
      ]
    },
    {
      "cell_type": "code",
      "source": [
        "N= int(input('Enter the number'))\n",
        "\n",
        "n= 0\n",
        "fact=  1\n",
        "\n",
        "for i in range(1,N+1):\n",
        "\n",
        "  fact= fact*i\n",
        "  n = n+i/fact\n",
        "\n",
        "print(n)\n"
      ],
      "metadata": {
        "colab": {
          "base_uri": "https://localhost:8080/"
        },
        "id": "njeeMeO6yq1N",
        "outputId": "9cbee8df-dcf3-419b-a3ef-73fa1a83cfaa"
      },
      "execution_count": null,
      "outputs": [
        {
          "output_type": "stream",
          "name": "stdout",
          "text": [
            "Enter the number2\n",
            "2.0\n"
          ]
        }
      ]
    },
    {
      "cell_type": "code",
      "source": [
        "for i in range (1,5):\n",
        "  for j in range(1,5):\n",
        "    print(i,j)"
      ],
      "metadata": {
        "colab": {
          "base_uri": "https://localhost:8080/"
        },
        "id": "VejtEFa2yrXs",
        "outputId": "7bc971d1-8673-49d4-f8e4-59f0eb90fa00"
      },
      "execution_count": null,
      "outputs": [
        {
          "output_type": "stream",
          "name": "stdout",
          "text": [
            "1 1\n",
            "1 2\n",
            "1 3\n",
            "1 4\n",
            "2 1\n",
            "2 2\n",
            "2 3\n",
            "2 4\n",
            "3 1\n",
            "3 2\n",
            "3 3\n",
            "3 4\n",
            "4 1\n",
            "4 2\n",
            "4 3\n",
            "4 4\n"
          ]
        }
      ]
    },
    {
      "cell_type": "code",
      "source": [
        "r= int(input('Enter no of rows'))\n",
        "\n",
        "for i in range(1,r+1):\n",
        "  for j in range(1,i+1):\n",
        "    print('*',end='')\n",
        "  print()\n"
      ],
      "metadata": {
        "colab": {
          "base_uri": "https://localhost:8080/"
        },
        "id": "r9J9mvXv4_SH",
        "outputId": "6e0c2e42-32de-4edd-fed3-3a813b858a58"
      },
      "execution_count": null,
      "outputs": [
        {
          "output_type": "stream",
          "name": "stdout",
          "text": [
            "Enter no of rows3\n",
            "*\n",
            "**\n",
            "***\n"
          ]
        }
      ]
    },
    {
      "cell_type": "code",
      "source": [
        "r= int(input('enter no of row'))\n",
        "\n",
        "for i in range(1,r+1):\n",
        "  for j in range(1,i+1):\n",
        "    print(j, end='')\n",
        "  for k in range(i-1,0,-1):\n",
        "      print(k, end= '')\n",
        "  print()"
      ],
      "metadata": {
        "colab": {
          "base_uri": "https://localhost:8080/"
        },
        "id": "OXCpO9Ni8yhz",
        "outputId": "8182366a-0a7d-4cc7-d00a-ec31d61d3ae1"
      },
      "execution_count": null,
      "outputs": [
        {
          "output_type": "stream",
          "name": "stdout",
          "text": [
            "enter no of row5\n",
            "1\n",
            "121\n",
            "12321\n",
            "1234321\n",
            "123454321\n"
          ]
        }
      ]
    },
    {
      "cell_type": "code",
      "source": [
        "5"
      ],
      "metadata": {
        "colab": {
          "base_uri": "https://localhost:8080/"
        },
        "id": "SyV2-jetAZAq",
        "outputId": "83be73ef-9313-4713-826c-55da027931bc"
      },
      "execution_count": null,
      "outputs": [
        {
          "output_type": "execute_result",
          "data": {
            "text/plain": [
              "5"
            ]
          },
          "metadata": {},
          "execution_count": 29
        }
      ]
    },
    {
      "cell_type": "code",
      "source": [
        "row= int(input('Enter rows'))\n",
        "for i in range(1,row+1):\n",
        "  for j in range(1,i+1):\n",
        "    print(j,end=' ')\n",
        "\n",
        "  for k in range(i-1,0,-1):\n",
        "    print(k, end=' ')\n",
        "  print()"
      ],
      "metadata": {
        "id": "cgYa2bymCwgM",
        "colab": {
          "base_uri": "https://localhost:8080/"
        },
        "outputId": "4f7f907c-9cbb-4541-ea3c-6887af3ac30f"
      },
      "execution_count": null,
      "outputs": [
        {
          "output_type": "stream",
          "name": "stdout",
          "text": [
            "Enter rows4\n",
            "1 \n",
            "1 2 1 \n",
            "1 2 3 2 1 \n",
            "1 2 3 4 3 2 1 \n"
          ]
        }
      ]
    },
    {
      "cell_type": "code",
      "source": [
        "#get 10-100 range and print only prime numbers\n",
        "\n",
        "start_no= int(input('Enter the no.'))\n",
        "end_no= int(input('Enter the no.'))\n",
        "\n",
        "for i in range(start_no,end_no+1):\n",
        "  for j in range(2,i):\n",
        "    if i%j==0:\n",
        "      break\n",
        "  else:\n",
        "      print(i)\n"
      ],
      "metadata": {
        "colab": {
          "base_uri": "https://localhost:8080/"
        },
        "id": "fNjv6TFI2MC4",
        "outputId": "a677010f-d4ce-4609-ea1d-532719ad60eb"
      },
      "execution_count": null,
      "outputs": [
        {
          "output_type": "stream",
          "name": "stdout",
          "text": [
            "Enter the no.10\n",
            "Enter the no.100\n",
            "11\n",
            "13\n",
            "17\n",
            "19\n",
            "23\n",
            "29\n",
            "31\n",
            "37\n",
            "41\n",
            "43\n",
            "47\n",
            "53\n",
            "59\n",
            "61\n",
            "67\n",
            "71\n",
            "73\n",
            "79\n",
            "83\n",
            "89\n",
            "97\n"
          ]
        }
      ]
    },
    {
      "cell_type": "code",
      "source": [
        "#Continue\n",
        "\n",
        "for i in range(1,10):\n",
        "  if i==5:\n",
        "    continue\n",
        "  print(i)"
      ],
      "metadata": {
        "colab": {
          "base_uri": "https://localhost:8080/"
        },
        "id": "qv5mY1wd6d37",
        "outputId": "1a158bc7-a997-4260-988b-40b7c3fdd496"
      },
      "execution_count": null,
      "outputs": [
        {
          "output_type": "stream",
          "name": "stdout",
          "text": [
            "1\n",
            "2\n",
            "3\n",
            "4\n",
            "6\n",
            "7\n",
            "8\n",
            "9\n"
          ]
        }
      ]
    },
    {
      "cell_type": "code",
      "source": [
        "for i in range(1,10):\n",
        "  pass"
      ],
      "metadata": {
        "id": "ZZa4DdhV2KMX"
      },
      "execution_count": null,
      "outputs": []
    },
    {
      "cell_type": "code",
      "source": [],
      "metadata": {
        "id": "417N8xNZ2KQO"
      },
      "execution_count": null,
      "outputs": []
    },
    {
      "cell_type": "markdown",
      "source": [
        "#Strings and Sequences of Characters\n",
        "\n",
        "ASCI I String: Initially only 08 bit(max 256bits) was used for the coding but with time it was realised that  it too small to stire data nd with different time and language started using 16bits (2^16) was used by Unicode charatecters that can handle long data even emoies uses unicode.\n",
        "String is immutable in python.\n",
        "Arithmetic, Relational, Logical, Loops, membership are the operators that works with the string."
      ],
      "metadata": {
        "id": "Mucqto8B4Oyp"
      }
    },
    {
      "cell_type": "code",
      "source": [
        "#Creating Strings\n",
        "\n",
        "s= 'Hello'  #' can be used\n",
        "\n",
        "y= \"It's like that\"   #\"to avoid ' or \" use \" or '\n",
        "\n",
        "#used for multiline strings\n",
        "z= '''ghjjagjaj\n",
        "hjhhkhskha\n",
        "hjhhkh'''\n",
        "g= str('Hello')\n",
        "print(s,y,z,g)"
      ],
      "metadata": {
        "id": "G4k1A0TK2KXC",
        "colab": {
          "base_uri": "https://localhost:8080/"
        },
        "outputId": "c5361c3f-517a-47ab-a291-33174d2a82f9"
      },
      "execution_count": null,
      "outputs": [
        {
          "output_type": "stream",
          "name": "stdout",
          "text": [
            "Hello It's like that ghjjagjaj    \n",
            "hjhhkhskha\n",
            "hjhhkh Hello\n"
          ]
        }
      ]
    },
    {
      "cell_type": "code",
      "source": [
        "#Indexing\n",
        "\n",
        "s= 'Hello World'\n",
        "\n",
        "#python assign index to all the string 0 to H 1 to e and l to 2 so on called postive indexing\n",
        "\n",
        "# We also have NEative Indexing\"\n",
        "# it move from right to left that strat with -1 from the end and and move towards right\n",
        "print(s[1])\n",
        "print(s[-1])\n",
        "\n",
        "#Now to extarct multiple characters we use Slicing\n",
        "print(s[0:5])\n",
        "\n",
        "print(s[2:])  #start from 2 and skips earlier Characteristics\n",
        "print(s[:3])   #means strat from 0 and print till n-1\n",
        "print(s[:])\n",
        "print(s[0:6:2]) #jump steps\n",
        "print(s[6:0:-1]) #-ve step size the first no must be big thn 2nd no.\n",
        "print(s[0:11])\n",
        "print(s[-5:])\n",
        "print(s[-1:-6:-1])"
      ],
      "metadata": {
        "id": "rmbBAo5D2KaI",
        "colab": {
          "base_uri": "https://localhost:8080/"
        },
        "outputId": "e066b19e-dd62-4572-9d91-0d798581a716"
      },
      "execution_count": null,
      "outputs": [
        {
          "output_type": "stream",
          "name": "stdout",
          "text": [
            "e\n",
            "d\n",
            "Hello\n",
            "llo World\n",
            "Hel\n",
            "Hello World\n",
            "Hlo\n",
            "W olle\n",
            "Hello World\n",
            "World\n",
            "dlroW\n"
          ]
        }
      ]
    },
    {
      "cell_type": "code",
      "source": [
        "print(s)"
      ],
      "metadata": {
        "id": "G0E1GTtm2KdU",
        "colab": {
          "base_uri": "https://localhost:8080/"
        },
        "outputId": "e902cc9f-b94e-4acd-c0c6-84b20338704f"
      },
      "execution_count": null,
      "outputs": [
        {
          "output_type": "stream",
          "name": "stdout",
          "text": [
            "Hello World\n"
          ]
        }
      ]
    },
    {
      "cell_type": "code",
      "source": [
        "del s\n",
        "print(s)    # string is not deleted but is stored in different way"
      ],
      "metadata": {
        "id": "vCa-LS_Z2KgZ",
        "colab": {
          "base_uri": "https://localhost:8080/",
          "height": 199
        },
        "outputId": "f880407f-ea40-40ee-bf6c-1b2147bf3da1"
      },
      "execution_count": null,
      "outputs": [
        {
          "output_type": "error",
          "ename": "NameError",
          "evalue": "ignored",
          "traceback": [
            "\u001b[0;31m---------------------------------------------------------------------------\u001b[0m",
            "\u001b[0;31mNameError\u001b[0m                                 Traceback (most recent call last)",
            "\u001b[0;32m<ipython-input-24-1c328f9dadc2>\u001b[0m in \u001b[0;36m<cell line: 1>\u001b[0;34m()\u001b[0m\n\u001b[0;32m----> 1\u001b[0;31m \u001b[0;32mdel\u001b[0m \u001b[0ms\u001b[0m\u001b[0;34m\u001b[0m\u001b[0;34m\u001b[0m\u001b[0m\n\u001b[0m\u001b[1;32m      2\u001b[0m \u001b[0mprint\u001b[0m\u001b[0;34m(\u001b[0m\u001b[0ms\u001b[0m\u001b[0;34m)\u001b[0m    \u001b[0;31m# string is not deleted but is stored in different way\u001b[0m\u001b[0;34m\u001b[0m\u001b[0;34m\u001b[0m\u001b[0m\n",
            "\u001b[0;31mNameError\u001b[0m: name 's' is not defined"
          ]
        }
      ]
    },
    {
      "cell_type": "code",
      "source": [
        "# Arithmetical Operator\n",
        "print('delhi'+ ' ' 'Mumbai')\n",
        "print('delhi'*5 )"
      ],
      "metadata": {
        "id": "5M-Zp5_e2KkD",
        "colab": {
          "base_uri": "https://localhost:8080/"
        },
        "outputId": "f2cf307c-53c3-4bb3-8e76-3e02b8eccfbd"
      },
      "execution_count": null,
      "outputs": [
        {
          "output_type": "stream",
          "name": "stdout",
          "text": [
            "delhi Mumbai\n",
            "delhidelhidelhidelhidelhi\n"
          ]
        }
      ]
    },
    {
      "cell_type": "code",
      "source": [
        "# Relational Operator\n",
        "\n",
        "'delhi'=='delhi'"
      ],
      "metadata": {
        "id": "FzN6qX2w2Knb",
        "colab": {
          "base_uri": "https://localhost:8080/"
        },
        "outputId": "c19739c3-b4ad-4420-af42-dd6bbd918204"
      },
      "execution_count": null,
      "outputs": [
        {
          "output_type": "execute_result",
          "data": {
            "text/plain": [
              "True"
            ]
          },
          "metadata": {},
          "execution_count": 40
        }
      ]
    },
    {
      "cell_type": "code",
      "source": [
        "'delhi'!='delhi'"
      ],
      "metadata": {
        "colab": {
          "base_uri": "https://localhost:8080/"
        },
        "id": "IV8T2vHrYK_3",
        "outputId": "5ad799b7-f865-4783-ce68-f700848ef92f"
      },
      "execution_count": null,
      "outputs": [
        {
          "output_type": "execute_result",
          "data": {
            "text/plain": [
              "False"
            ]
          },
          "metadata": {},
          "execution_count": 41
        }
      ]
    },
    {
      "cell_type": "code",
      "source": [
        "'mumbai'>'pune' #comapring string lexiographically where the word comes later later use ASCII chart and small wods ae high value comapred to big value\n"
      ],
      "metadata": {
        "colab": {
          "base_uri": "https://localhost:8080/"
        },
        "id": "McljPdboYLGz",
        "outputId": "7e99e2fe-579c-42f8-8f05-ce2fc2431b7e"
      },
      "execution_count": null,
      "outputs": [
        {
          "output_type": "execute_result",
          "data": {
            "text/plain": [
              "False"
            ]
          },
          "metadata": {},
          "execution_count": 42
        }
      ]
    },
    {
      "cell_type": "code",
      "source": [
        "'Pune'>'pune'"
      ],
      "metadata": {
        "colab": {
          "base_uri": "https://localhost:8080/"
        },
        "id": "bK9mGHm4YLN6",
        "outputId": "bda05f72-274e-4d7e-8c4b-16fde8a09f2b"
      },
      "execution_count": null,
      "outputs": [
        {
          "output_type": "execute_result",
          "data": {
            "text/plain": [
              "False"
            ]
          },
          "metadata": {},
          "execution_count": 43
        }
      ]
    },
    {
      "cell_type": "code",
      "source": [
        "''' string have chart is True and if empty is False so when both true for and its true and for\n",
        " or any one true its true. So when use or if have one string full its printed as it seen one\n",
        " true and  print it but for and he need to compare both the string so goes till end and print the last value.'''\n",
        "'Hello' and 'world'"
      ],
      "metadata": {
        "id": "VGJxEoOT2Kqs",
        "colab": {
          "base_uri": "https://localhost:8080/",
          "height": 36
        },
        "outputId": "b3f9fd5c-c9f9-4da0-a3f9-0cac79de9e9d"
      },
      "execution_count": null,
      "outputs": [
        {
          "output_type": "execute_result",
          "data": {
            "text/plain": [
              "'world'"
            ],
            "application/vnd.google.colaboratory.intrinsic+json": {
              "type": "string"
            }
          },
          "metadata": {},
          "execution_count": 36
        }
      ]
    },
    {
      "cell_type": "code",
      "source": [
        "'' and 'world'"
      ],
      "metadata": {
        "id": "1O5ObpJN2KuM",
        "colab": {
          "base_uri": "https://localhost:8080/",
          "height": 36
        },
        "outputId": "0daba6ca-2a7b-495a-8056-928b914a983a"
      },
      "execution_count": null,
      "outputs": [
        {
          "output_type": "execute_result",
          "data": {
            "text/plain": [
              "''"
            ],
            "application/vnd.google.colaboratory.intrinsic+json": {
              "type": "string"
            }
          },
          "metadata": {},
          "execution_count": 37
        }
      ]
    },
    {
      "cell_type": "code",
      "source": [
        "'Hello' or 'world'"
      ],
      "metadata": {
        "id": "OXTdNCz42KxV",
        "colab": {
          "base_uri": "https://localhost:8080/",
          "height": 36
        },
        "outputId": "395e794c-dfbf-47d2-fb3b-eeb5d57d0acf"
      },
      "execution_count": null,
      "outputs": [
        {
          "output_type": "execute_result",
          "data": {
            "text/plain": [
              "'Hello'"
            ],
            "application/vnd.google.colaboratory.intrinsic+json": {
              "type": "string"
            }
          },
          "metadata": {},
          "execution_count": 38
        }
      ]
    },
    {
      "cell_type": "code",
      "source": [
        "\"\" or 'world'"
      ],
      "metadata": {
        "id": "j0-r8CVF2K2E",
        "colab": {
          "base_uri": "https://localhost:8080/",
          "height": 36
        },
        "outputId": "0b4e084b-6f19-468b-eacf-b01d25d40d72"
      },
      "execution_count": null,
      "outputs": [
        {
          "output_type": "execute_result",
          "data": {
            "text/plain": [
              "'world'"
            ],
            "application/vnd.google.colaboratory.intrinsic+json": {
              "type": "string"
            }
          },
          "metadata": {},
          "execution_count": 39
        }
      ]
    },
    {
      "cell_type": "code",
      "source": [
        "not ''"
      ],
      "metadata": {
        "colab": {
          "base_uri": "https://localhost:8080/"
        },
        "id": "TrN4t1VGZjSy",
        "outputId": "69003025-5a89-4ad5-fcd2-a8ad15a39afe"
      },
      "execution_count": null,
      "outputs": [
        {
          "output_type": "execute_result",
          "data": {
            "text/plain": [
              "True"
            ]
          },
          "metadata": {},
          "execution_count": 45
        }
      ]
    },
    {
      "cell_type": "code",
      "source": [
        "not 'Hello'"
      ],
      "metadata": {
        "colab": {
          "base_uri": "https://localhost:8080/"
        },
        "id": "dEjU94qyZqS-",
        "outputId": "dfcc59e2-2294-4311-83d7-1d302a5b7c03"
      },
      "execution_count": null,
      "outputs": [
        {
          "output_type": "execute_result",
          "data": {
            "text/plain": [
              "False"
            ]
          },
          "metadata": {},
          "execution_count": 47
        }
      ]
    },
    {
      "cell_type": "code",
      "source": [
        "# Itterable\n",
        "for i in 'hello':\n",
        "  print(i)"
      ],
      "metadata": {
        "colab": {
          "base_uri": "https://localhost:8080/"
        },
        "id": "3S8ADwWrZuGQ",
        "outputId": "a0fdae32-a121-4434-bdb7-b325d82cf7d1"
      },
      "execution_count": null,
      "outputs": [
        {
          "output_type": "stream",
          "name": "stdout",
          "text": [
            "h\n",
            "e\n",
            "l\n",
            "l\n",
            "o\n"
          ]
        }
      ]
    },
    {
      "cell_type": "code",
      "source": [
        "for i in 'delhi':\n",
        "  print('pune')  # as delhi is 5 it print 5 times pune"
      ],
      "metadata": {
        "colab": {
          "base_uri": "https://localhost:8080/"
        },
        "id": "jC900zIUaNh4",
        "outputId": "71483f94-211b-415b-9e1d-019b5d1d9f46"
      },
      "execution_count": null,
      "outputs": [
        {
          "output_type": "stream",
          "name": "stdout",
          "text": [
            "pune\n",
            "pune\n",
            "pune\n",
            "pune\n",
            "pune\n"
          ]
        }
      ]
    },
    {
      "cell_type": "code",
      "source": [
        "# Membership Opertaor\n",
        "\n",
        "'D' in 'delhi'  #python is case sensitive\n"
      ],
      "metadata": {
        "colab": {
          "base_uri": "https://localhost:8080/"
        },
        "id": "561dwpyaaNlz",
        "outputId": "13105cb9-8cb4-46a5-f83d-4cdbe5b6c8fc"
      },
      "execution_count": null,
      "outputs": [
        {
          "output_type": "execute_result",
          "data": {
            "text/plain": [
              "False"
            ]
          },
          "metadata": {},
          "execution_count": 51
        }
      ]
    },
    {
      "cell_type": "code",
      "source": [
        "'D' in 'Delhi'"
      ],
      "metadata": {
        "colab": {
          "base_uri": "https://localhost:8080/"
        },
        "id": "wm_PVSEPaOFs",
        "outputId": "783b0843-8153-49f0-ab44-c2eeb80b3a2e"
      },
      "execution_count": null,
      "outputs": [
        {
          "output_type": "execute_result",
          "data": {
            "text/plain": [
              "True"
            ]
          },
          "metadata": {},
          "execution_count": 52
        }
      ]
    },
    {
      "cell_type": "markdown",
      "source": [
        "Function\n",
        "Commenly used (can be sed in tuples, list,set,dictonary, strings)\n",
        "len\n",
        "max\n",
        "min\n",
        "sorted"
      ],
      "metadata": {
        "id": "STGc2z4qa94w"
      }
    },
    {
      "cell_type": "code",
      "source": [
        "len('hello')"
      ],
      "metadata": {
        "colab": {
          "base_uri": "https://localhost:8080/"
        },
        "id": "0_8CEsH-aOIU",
        "outputId": "fb5db271-8d81-4e52-c476-09bb2794f84a"
      },
      "execution_count": null,
      "outputs": [
        {
          "output_type": "execute_result",
          "data": {
            "text/plain": [
              "5"
            ]
          },
          "metadata": {},
          "execution_count": 54
        }
      ]
    },
    {
      "cell_type": "code",
      "source": [
        "max('hello') #max cahrate on aSCii"
      ],
      "metadata": {
        "colab": {
          "base_uri": "https://localhost:8080/",
          "height": 36
        },
        "id": "M7mcncN-aONq",
        "outputId": "d4add340-caef-42e4-ead8-27927cd36517"
      },
      "execution_count": null,
      "outputs": [
        {
          "output_type": "execute_result",
          "data": {
            "text/plain": [
              "'o'"
            ],
            "application/vnd.google.colaboratory.intrinsic+json": {
              "type": "string"
            }
          },
          "metadata": {},
          "execution_count": 55
        }
      ]
    },
    {
      "cell_type": "code",
      "source": [
        "min('hello world')"
      ],
      "metadata": {
        "colab": {
          "base_uri": "https://localhost:8080/",
          "height": 36
        },
        "id": "tJigjJIvaOQw",
        "outputId": "b30d55b3-2551-49b4-a5d0-fc81569727a0"
      },
      "execution_count": null,
      "outputs": [
        {
          "output_type": "execute_result",
          "data": {
            "text/plain": [
              "' '"
            ],
            "application/vnd.google.colaboratory.intrinsic+json": {
              "type": "string"
            }
          },
          "metadata": {},
          "execution_count": 56
        }
      ]
    },
    {
      "cell_type": "code",
      "source": [
        "sorted('hello world') #organized in ascending order as per ASCII value"
      ],
      "metadata": {
        "colab": {
          "base_uri": "https://localhost:8080/"
        },
        "id": "RFPidUVRaOT5",
        "outputId": "5bd4ac66-17b4-4f2d-826f-be658bcc0128"
      },
      "execution_count": null,
      "outputs": [
        {
          "output_type": "execute_result",
          "data": {
            "text/plain": [
              "[' ', 'd', 'e', 'h', 'l', 'l', 'l', 'o', 'o', 'r', 'w']"
            ]
          },
          "metadata": {},
          "execution_count": 57
        }
      ]
    },
    {
      "cell_type": "code",
      "source": [
        "sorted('hello world', reverse=True) #organized in desc order as per ASCII value"
      ],
      "metadata": {
        "colab": {
          "base_uri": "https://localhost:8080/"
        },
        "id": "RC7qzw0eaOXa",
        "outputId": "1adbbace-04ce-437c-8dea-1fa056bd7407"
      },
      "execution_count": null,
      "outputs": [
        {
          "output_type": "execute_result",
          "data": {
            "text/plain": [
              "['w', 'r', 'o', 'o', 'l', 'l', 'l', 'h', 'e', 'd', ' ']"
            ]
          },
          "metadata": {},
          "execution_count": 58
        }
      ]
    },
    {
      "cell_type": "code",
      "source": [],
      "metadata": {
        "id": "7jJOYpShaOan"
      },
      "execution_count": null,
      "outputs": []
    },
    {
      "cell_type": "markdown",
      "source": [
        "Capitalize/Title/Upper/Lower/Swapcase only on strings."
      ],
      "metadata": {
        "id": "eVzFibdxeDY7"
      }
    },
    {
      "cell_type": "code",
      "source": [
        "s= 'Hello world'  #nothing is changed in the oriinal string its just ouput original is same\n",
        "s.capitalize()"
      ],
      "metadata": {
        "colab": {
          "base_uri": "https://localhost:8080/",
          "height": 36
        },
        "id": "VEYDG_lFaOeI",
        "outputId": "c563034e-8d2f-479c-f90d-8db39e8c1712"
      },
      "execution_count": null,
      "outputs": [
        {
          "output_type": "execute_result",
          "data": {
            "text/plain": [
              "'Hello world'"
            ],
            "application/vnd.google.colaboratory.intrinsic+json": {
              "type": "string"
            }
          },
          "metadata": {},
          "execution_count": 61
        }
      ]
    },
    {
      "cell_type": "code",
      "source": [
        "s.title()"
      ],
      "metadata": {
        "colab": {
          "base_uri": "https://localhost:8080/",
          "height": 36
        },
        "id": "F1hibQHOaOhr",
        "outputId": "3a7b313a-dffa-4c6b-c605-81a8a2105039"
      },
      "execution_count": null,
      "outputs": [
        {
          "output_type": "execute_result",
          "data": {
            "text/plain": [
              "'Hello World'"
            ],
            "application/vnd.google.colaboratory.intrinsic+json": {
              "type": "string"
            }
          },
          "metadata": {},
          "execution_count": 62
        }
      ]
    },
    {
      "cell_type": "code",
      "source": [
        "s.upper()"
      ],
      "metadata": {
        "colab": {
          "base_uri": "https://localhost:8080/",
          "height": 36
        },
        "id": "Q0uT_tD2aOk2",
        "outputId": "af4ae647-0bce-426e-d56e-6189a0cb697d"
      },
      "execution_count": null,
      "outputs": [
        {
          "output_type": "execute_result",
          "data": {
            "text/plain": [
              "'HELLO WORLD'"
            ],
            "application/vnd.google.colaboratory.intrinsic+json": {
              "type": "string"
            }
          },
          "metadata": {},
          "execution_count": 63
        }
      ]
    },
    {
      "cell_type": "code",
      "source": [
        "s.lower()"
      ],
      "metadata": {
        "colab": {
          "base_uri": "https://localhost:8080/",
          "height": 36
        },
        "id": "nKWAkLS9aOoP",
        "outputId": "49015f3c-ed7b-477f-d131-34eb6a181b4a"
      },
      "execution_count": null,
      "outputs": [
        {
          "output_type": "execute_result",
          "data": {
            "text/plain": [
              "'hello world'"
            ],
            "application/vnd.google.colaboratory.intrinsic+json": {
              "type": "string"
            }
          },
          "metadata": {},
          "execution_count": 64
        }
      ]
    },
    {
      "cell_type": "code",
      "source": [
        "'HeLlo'.swapcase()"
      ],
      "metadata": {
        "colab": {
          "base_uri": "https://localhost:8080/",
          "height": 36
        },
        "id": "b9Sx8Vz4aOvp",
        "outputId": "ff6293d2-aa40-47b1-a48e-456cd4934272"
      },
      "execution_count": null,
      "outputs": [
        {
          "output_type": "execute_result",
          "data": {
            "text/plain": [
              "'hElLO'"
            ],
            "application/vnd.google.colaboratory.intrinsic+json": {
              "type": "string"
            }
          },
          "metadata": {},
          "execution_count": 65
        }
      ]
    },
    {
      "cell_type": "code",
      "source": [],
      "metadata": {
        "id": "TMgPol3TaO0P"
      },
      "execution_count": null,
      "outputs": []
    },
    {
      "cell_type": "markdown",
      "source": [
        "Count/Find/Index"
      ],
      "metadata": {
        "id": "-5zWmCjMeyp6"
      }
    },
    {
      "cell_type": "code",
      "source": [
        "'hello'.count('l')"
      ],
      "metadata": {
        "colab": {
          "base_uri": "https://localhost:8080/"
        },
        "id": "ZMSEtdGLaO4q",
        "outputId": "13f07b50-d37d-4a99-80e3-800fba399a16"
      },
      "execution_count": null,
      "outputs": [
        {
          "output_type": "execute_result",
          "data": {
            "text/plain": [
              "2"
            ]
          },
          "metadata": {},
          "execution_count": 67
        }
      ]
    },
    {
      "cell_type": "code",
      "source": [
        "'hello'.find('l')"
      ],
      "metadata": {
        "colab": {
          "base_uri": "https://localhost:8080/"
        },
        "id": "YokybsOwaO9F",
        "outputId": "cab5632e-b4dd-4551-830b-910432388b19"
      },
      "execution_count": null,
      "outputs": [
        {
          "output_type": "execute_result",
          "data": {
            "text/plain": [
              "2"
            ]
          },
          "metadata": {},
          "execution_count": 68
        }
      ]
    },
    {
      "cell_type": "code",
      "source": [
        "'hello'.find('a') #as a doesnt exists it return -1 as unable to search"
      ],
      "metadata": {
        "colab": {
          "base_uri": "https://localhost:8080/"
        },
        "id": "GHjAZLe1aPBQ",
        "outputId": "e8c9e16d-25ab-4be1-c76d-c55967e3f264"
      },
      "execution_count": null,
      "outputs": [
        {
          "output_type": "execute_result",
          "data": {
            "text/plain": [
              "-1"
            ]
          },
          "metadata": {},
          "execution_count": 70
        }
      ]
    },
    {
      "cell_type": "code",
      "source": [
        "#index is same as find it return error if some is not in he va;ue\n",
        "\n",
        "'hllo'.index('a')"
      ],
      "metadata": {
        "colab": {
          "base_uri": "https://localhost:8080/",
          "height": 217
        },
        "id": "N3JdeKdwaPFs",
        "outputId": "9d5a9b27-afdc-40af-d5c8-97f66bcd9312"
      },
      "execution_count": null,
      "outputs": [
        {
          "output_type": "error",
          "ename": "ValueError",
          "evalue": "ignored",
          "traceback": [
            "\u001b[0;31m---------------------------------------------------------------------------\u001b[0m",
            "\u001b[0;31mValueError\u001b[0m                                Traceback (most recent call last)",
            "\u001b[0;32m<ipython-input-71-89d880445df2>\u001b[0m in \u001b[0;36m<cell line: 3>\u001b[0;34m()\u001b[0m\n\u001b[1;32m      1\u001b[0m \u001b[0;31m#index is same as find it return error if some is not in he va;ue\u001b[0m\u001b[0;34m\u001b[0m\u001b[0;34m\u001b[0m\u001b[0m\n\u001b[1;32m      2\u001b[0m \u001b[0;34m\u001b[0m\u001b[0m\n\u001b[0;32m----> 3\u001b[0;31m \u001b[0;34m'hllo'\u001b[0m\u001b[0;34m.\u001b[0m\u001b[0mindex\u001b[0m\u001b[0;34m(\u001b[0m\u001b[0;34m'a'\u001b[0m\u001b[0;34m)\u001b[0m\u001b[0;34m\u001b[0m\u001b[0;34m\u001b[0m\u001b[0m\n\u001b[0m",
            "\u001b[0;31mValueError\u001b[0m: substring not found"
          ]
        }
      ]
    },
    {
      "cell_type": "code",
      "source": [],
      "metadata": {
        "id": "J6Q4O4WMgmNJ"
      },
      "execution_count": null,
      "outputs": []
    },
    {
      "cell_type": "markdown",
      "source": [
        "endswith/strat with"
      ],
      "metadata": {
        "id": "VUbxVLJsgnzt"
      }
    },
    {
      "cell_type": "code",
      "source": [
        "'my name is'.endswith('is')\n"
      ],
      "metadata": {
        "colab": {
          "base_uri": "https://localhost:8080/"
        },
        "id": "_nT9CI0RgmQL",
        "outputId": "5e679d74-1288-4a81-9c5f-1929adf61400"
      },
      "execution_count": null,
      "outputs": [
        {
          "output_type": "execute_result",
          "data": {
            "text/plain": [
              "True"
            ]
          },
          "metadata": {},
          "execution_count": 74
        }
      ]
    },
    {
      "cell_type": "code",
      "source": [
        "'my name is'.startswith('is')"
      ],
      "metadata": {
        "colab": {
          "base_uri": "https://localhost:8080/"
        },
        "id": "TSIT9C7HgmTS",
        "outputId": "83673c5a-a94d-4134-d7fc-b42a5d6cd887"
      },
      "execution_count": null,
      "outputs": [
        {
          "output_type": "execute_result",
          "data": {
            "text/plain": [
              "False"
            ]
          },
          "metadata": {},
          "execution_count": 75
        }
      ]
    },
    {
      "cell_type": "markdown",
      "source": [
        "Format\n"
      ],
      "metadata": {
        "id": "xRLetML5g8sL"
      }
    },
    {
      "cell_type": "code",
      "source": [
        "name = 'Shubham'\n",
        "Gender= 'Male'\n",
        "\n",
        "'Hi my name is {0} and am {1}'.format(name,Gender) #order matters"
      ],
      "metadata": {
        "colab": {
          "base_uri": "https://localhost:8080/",
          "height": 36
        },
        "id": "icx43uSKgmVy",
        "outputId": "4c7ff69b-10e3-4f97-99f3-d416c10c01ab"
      },
      "execution_count": null,
      "outputs": [
        {
          "output_type": "execute_result",
          "data": {
            "text/plain": [
              "'Hi my name is Shubham and am Male'"
            ],
            "application/vnd.google.colaboratory.intrinsic+json": {
              "type": "string"
            }
          },
          "metadata": {},
          "execution_count": 80
        }
      ]
    },
    {
      "cell_type": "markdown",
      "source": [
        "isalnum/isalpha/isdigit/isidentifier"
      ],
      "metadata": {
        "id": "THewO0rVhdju"
      }
    },
    {
      "cell_type": "code",
      "source": [
        "'shu123'.isalnum()"
      ],
      "metadata": {
        "colab": {
          "base_uri": "https://localhost:8080/"
        },
        "id": "xh4RkRcDgmYT",
        "outputId": "c03b58dd-919c-40ac-bad2-739c11da5dfb"
      },
      "execution_count": null,
      "outputs": [
        {
          "output_type": "execute_result",
          "data": {
            "text/plain": [
              "True"
            ]
          },
          "metadata": {},
          "execution_count": 81
        }
      ]
    },
    {
      "cell_type": "code",
      "source": [
        "'123'.isalpha() #only alpha is true"
      ],
      "metadata": {
        "colab": {
          "base_uri": "https://localhost:8080/"
        },
        "id": "n1CwNyX6gmbc",
        "outputId": "7859d661-14db-4644-9ec3-8096b8be6185"
      },
      "execution_count": null,
      "outputs": [
        {
          "output_type": "execute_result",
          "data": {
            "text/plain": [
              "False"
            ]
          },
          "metadata": {},
          "execution_count": 82
        }
      ]
    },
    {
      "cell_type": "code",
      "source": [
        "'123'.isdigit()"
      ],
      "metadata": {
        "colab": {
          "base_uri": "https://localhost:8080/"
        },
        "id": "iaYDXWqtgmeS",
        "outputId": "e2d4658f-e3c3-437a-8382-2e1d9503f4bc"
      },
      "execution_count": null,
      "outputs": [
        {
          "output_type": "execute_result",
          "data": {
            "text/plain": [
              "True"
            ]
          },
          "metadata": {},
          "execution_count": 83
        }
      ]
    },
    {
      "cell_type": "code",
      "source": [
        "'1name'.isidentifier()"
      ],
      "metadata": {
        "colab": {
          "base_uri": "https://localhost:8080/"
        },
        "id": "3KzQ65OLgmhF",
        "outputId": "7d9cc162-9d3b-4955-f282-9cdaea1c1129"
      },
      "execution_count": null,
      "outputs": [
        {
          "output_type": "execute_result",
          "data": {
            "text/plain": [
              "False"
            ]
          },
          "metadata": {},
          "execution_count": 84
        }
      ]
    },
    {
      "cell_type": "markdown",
      "source": [
        "Split/Join"
      ],
      "metadata": {
        "id": "7CeTHshZiUJQ"
      }
    },
    {
      "cell_type": "code",
      "source": [
        "'hi my name is Shubham'.split()  #break ad store in a list if nothing passed it break as space"
      ],
      "metadata": {
        "colab": {
          "base_uri": "https://localhost:8080/"
        },
        "id": "ME7lnISEgmkJ",
        "outputId": "b949a5a4-9180-4d1d-ce98-7423fc3541e8"
      },
      "execution_count": null,
      "outputs": [
        {
          "output_type": "execute_result",
          "data": {
            "text/plain": [
              "['hi', 'my', 'name', 'is', 'Shubham']"
            ]
          },
          "metadata": {},
          "execution_count": 85
        }
      ]
    },
    {
      "cell_type": "code",
      "source": [
        "'hi my name is Shubham'.split('i')  #break ad store in a list"
      ],
      "metadata": {
        "colab": {
          "base_uri": "https://localhost:8080/"
        },
        "id": "pKTWaLmVgmmf",
        "outputId": "24514ef4-ea70-434b-dc95-5246e71aa0e3"
      },
      "execution_count": null,
      "outputs": [
        {
          "output_type": "execute_result",
          "data": {
            "text/plain": [
              "['h', ' my name ', 's Shubham']"
            ]
          },
          "metadata": {},
          "execution_count": 86
        }
      ]
    },
    {
      "cell_type": "code",
      "source": [
        "\" \".join(['hi', 'my', 'name', 'is', 'Shubham']) # join the list with \" \" as before .join we siad \" \" if said - it will be repalced by that"
      ],
      "metadata": {
        "colab": {
          "base_uri": "https://localhost:8080/",
          "height": 36
        },
        "id": "FlvJ5k1kgmpO",
        "outputId": "f3a64db0-b9c5-453d-e58b-09aeec2403f9"
      },
      "execution_count": null,
      "outputs": [
        {
          "output_type": "execute_result",
          "data": {
            "text/plain": [
              "'hi my name is Shubham'"
            ],
            "application/vnd.google.colaboratory.intrinsic+json": {
              "type": "string"
            }
          },
          "metadata": {},
          "execution_count": 87
        }
      ]
    },
    {
      "cell_type": "markdown",
      "source": [
        "Replace"
      ],
      "metadata": {
        "id": "Q4LrZGE0jEFq"
      }
    },
    {
      "cell_type": "code",
      "source": [
        "'hi anme is shubham'.replace('shubham','shubham and work in London')"
      ],
      "metadata": {
        "colab": {
          "base_uri": "https://localhost:8080/",
          "height": 36
        },
        "id": "ttavVyIFgmr3",
        "outputId": "ffe6d937-f39b-4fa2-c2f6-dc760eb51fe4"
      },
      "execution_count": null,
      "outputs": [
        {
          "output_type": "execute_result",
          "data": {
            "text/plain": [
              "'hi anme is shubham and work in London'"
            ],
            "application/vnd.google.colaboratory.intrinsic+json": {
              "type": "string"
            }
          },
          "metadata": {},
          "execution_count": 90
        }
      ]
    },
    {
      "cell_type": "markdown",
      "source": [
        "Strip"
      ],
      "metadata": {
        "id": "vopxwjhVjTx2"
      }
    },
    {
      "cell_type": "code",
      "source": [
        "'SHubham          '.strip() #to remove he space only from he end\n"
      ],
      "metadata": {
        "colab": {
          "base_uri": "https://localhost:8080/",
          "height": 36
        },
        "id": "sWbH86JKgmuQ",
        "outputId": "5d30603f-fe2e-494e-89d3-fb20e439947a"
      },
      "execution_count": null,
      "outputs": [
        {
          "output_type": "execute_result",
          "data": {
            "text/plain": [
              "'SHubham'"
            ],
            "application/vnd.google.colaboratory.intrinsic+json": {
              "type": "string"
            }
          },
          "metadata": {},
          "execution_count": 91
        }
      ]
    },
    {
      "cell_type": "code",
      "source": [
        "s= input('Enter the string')\n",
        "count= 0\n",
        "for i in s:\n",
        "  count += 1\n",
        "print(count)"
      ],
      "metadata": {
        "id": "fivWeSz6gm4C",
        "colab": {
          "base_uri": "https://localhost:8080/"
        },
        "outputId": "c78f12b3-b531-4c0a-dc95-d698d8d60677"
      },
      "execution_count": 7,
      "outputs": [
        {
          "output_type": "stream",
          "name": "stdout",
          "text": [
            "Enter the stringhello\n",
            "5\n"
          ]
        }
      ]
    },
    {
      "cell_type": "code",
      "source": [
        "s= input('Enter the email ID')\n",
        "\n",
        "pos= s.index('@')\n",
        "\n",
        "print(s[0:pos])"
      ],
      "metadata": {
        "id": "75OLz8yygm6-",
        "colab": {
          "base_uri": "https://localhost:8080/"
        },
        "outputId": "11e91e52-41a8-4448-bd78-c708211d88d9"
      },
      "execution_count": 8,
      "outputs": [
        {
          "output_type": "stream",
          "name": "stdout",
          "text": [
            "Enter the email IDhello@\n",
            "hello\n"
          ]
        }
      ]
    },
    {
      "cell_type": "code",
      "source": [
        "from sys import set_coroutine_origin_tracking_depth\n",
        "s= input('Enter the string')\n",
        "search= input('Enter the term to search')\n",
        "\n",
        "counter = 0\n",
        "for i in s:\n",
        "  if i==search:\n",
        "    counter += 1\n",
        "print (counter)"
      ],
      "metadata": {
        "id": "wmpuOv7dgm9g",
        "colab": {
          "base_uri": "https://localhost:8080/"
        },
        "outputId": "93b76e0b-aef8-458d-ebc6-a19ba4f22a34"
      },
      "execution_count": 9,
      "outputs": [
        {
          "output_type": "stream",
          "name": "stdout",
          "text": [
            "Enter the stringhello\n",
            "Enter the term to searchl\n",
            "2\n"
          ]
        }
      ]
    },
    {
      "cell_type": "code",
      "source": [
        "#from ast import Del\n",
        "#remove character from the string\n",
        "\n",
        "s= input('Enter the String')\n",
        "de = input('Character you want to delete')\n",
        "\n",
        "result = \" \"\n",
        "for i in s:\n",
        "  if i != de:\n",
        "    result += i\n",
        "print(result)"
      ],
      "metadata": {
        "id": "esMpv5szgnAk",
        "colab": {
          "base_uri": "https://localhost:8080/"
        },
        "outputId": "85473c6c-d162-463c-92dc-b4dd8dfe4d98"
      },
      "execution_count": 14,
      "outputs": [
        {
          "output_type": "stream",
          "name": "stdout",
          "text": [
            "Enter the Stringhello\n",
            "Character you want to deletel\n",
            " heo\n"
          ]
        }
      ]
    },
    {
      "cell_type": "code",
      "source": [
        "#find Palindrome read same from start or end\n",
        "\n",
        "# Taking user input\n",
        "user_input = input(\"Enter a word: \")\n",
        "\n",
        "# Convert the word to lowercase to make the comparison case-insensitive\n",
        "#word = user_input.lower()\n",
        "\n",
        "# Reverse the word\n",
        "reversed_word = user_input[::-1]\n",
        "\n",
        "# Check if the original and reversed words are the same\n",
        "if user_input == reversed_word:\n",
        "    print(\"The word is a palindrome.\")\n",
        "else:\n",
        "    print(\"The word is not a palindrome.\")"
      ],
      "metadata": {
        "id": "BesuCLQognGk",
        "colab": {
          "base_uri": "https://localhost:8080/"
        },
        "outputId": "e7964688-56fd-4189-f29c-bc2e41c9d051"
      },
      "execution_count": 27,
      "outputs": [
        {
          "output_type": "stream",
          "name": "stdout",
          "text": [
            "Enter a word: abba\n",
            "The word is a palindrome.\n"
          ]
        }
      ]
    },
    {
      "cell_type": "code",
      "source": [
        "s=input('Enter the string')\n",
        "d= ' '\n",
        "\n",
        "result=[]\n",
        "current_word= '   '\n",
        "\n",
        "for i in s:\n"
      ],
      "metadata": {
        "id": "e7WC4JxygnJh",
        "colab": {
          "base_uri": "https://localhost:8080/"
        },
        "outputId": "a65c1df1-ebe0-4207-889f-298cfa22d7e7"
      },
      "execution_count": 26,
      "outputs": [
        {
          "output_type": "execute_result",
          "data": {
            "text/plain": [
              "2"
            ]
          },
          "metadata": {},
          "execution_count": 26
        }
      ]
    },
    {
      "cell_type": "code",
      "source": [
        "s= input('Enter the string')\n",
        "L=[]\n",
        "\n",
        "for i in s.split():\n",
        "  L.append(i[0].upper()+i[1:].lower())\n",
        "print(' '.join(L))"
      ],
      "metadata": {
        "id": "HNcEy3cQgnMP",
        "colab": {
          "base_uri": "https://localhost:8080/"
        },
        "outputId": "22f20c29-ed16-44e5-c97c-fe3e379d6066"
      },
      "execution_count": 29,
      "outputs": [
        {
          "output_type": "stream",
          "name": "stdout",
          "text": [
            "Enter the stringhi hello bye\n",
            "Hi Hello Bye\n"
          ]
        }
      ]
    },
    {
      "cell_type": "code",
      "source": [],
      "metadata": {
        "id": "ri76n673f8jP"
      },
      "execution_count": null,
      "outputs": []
    }
  ]
}