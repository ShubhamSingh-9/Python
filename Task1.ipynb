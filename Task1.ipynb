{
 "cells": [
  {
   "cell_type": "code",
   "execution_count": 1,
   "id": "0d6c1c66",
   "metadata": {},
   "outputs": [
    {
     "name": "stdout",
     "output_type": "stream",
     "text": [
      "Data-Science-Mentorship-Program-By-CampusX\n"
     ]
    }
   ],
   "source": [
    "'''\n",
    "Q1 :- Print the given strings as per stated format.\n",
    "Given strings:\n",
    "\n",
    "\"Data\" \"Science\" \"Mentorship\" \"Program\" \n",
    "\"By\" \"CampusX\"\n",
    "'''\n",
    "\n",
    "print('Data', end = '-')\n",
    "print(\"Science\", end = '-')\n",
    "print(\"Mentorship\", end = '-')\n",
    "print(\"Program\", end = '-') \n",
    "print(\"By\", end = '-') \n",
    "print(\"CampusX\")"
   ]
  },
  {
   "cell_type": "code",
   "execution_count": 2,
   "id": "d194ef8f",
   "metadata": {},
   "outputs": [
    {
     "name": "stdout",
     "output_type": "stream",
     "text": [
      "Enter the temperature in degC that you need in degF32\n",
      "89.6\n"
     ]
    }
   ],
   "source": [
    "# Q2:- Write a program that will convert celsius value to fahrenheit.\n",
    "\n",
    "degC= int(input('Enter the temperature in degC that you need in degF'))\n",
    "deff= (degC*(9/5)+32)\n",
    "print(deff)"
   ]
  },
  {
   "cell_type": "code",
   "execution_count": 3,
   "id": "e11cddb7",
   "metadata": {},
   "outputs": [
    {
     "name": "stdout",
     "output_type": "stream",
     "text": [
      "Enter 1st no.3\n",
      "Enter 2nd no.5\n",
      "1st and 2nd no. is 3 5\n",
      "Now no1 5\n",
      "Now no2 3\n"
     ]
    }
   ],
   "source": [
    "'''Q3:- Take 2 numbers as input from the user.\n",
    "Write a program to swap the numbers without using any special python syntax.'''\n",
    "\n",
    "no1= int(input('Enter 1st no.'))\n",
    "no2= int(input('Enter 2nd no.'))\n",
    "print('1st and 2nd no. is',no1, no2)\n",
    "no3=no1\n",
    "no1=no2\n",
    "no2=no3\n",
    "print('Now no1', no1)\n",
    "print('Now no2', no2)"
   ]
  },
  {
   "cell_type": "code",
   "execution_count": 4,
   "id": "e568addf",
   "metadata": {},
   "outputs": [
    {
     "name": "stdout",
     "output_type": "stream",
     "text": [
      "x 1st Point2\n",
      "x 2nd Point5\n",
      "y 1st Point7\n",
      "y 2nd Point9\n",
      "3.605551275463989\n"
     ]
    }
   ],
   "source": [
    "'''Q4:- Write a program to find the euclidean distance between two coordinates.\n",
    "Take both the coordinates from the user as input.'''\n",
    "\n",
    "\n",
    "x1= int(input('x 1st Point'))\n",
    "x2= int(input('x 2nd Point'))\n",
    "y1= int(input('y 1st Point'))\n",
    "y2= int(input('y 2nd Point'))\n",
    "d = ((x2-x1)**2 + (y2-y1)**2)**0.5\n",
    "print(d)"
   ]
  },
  {
   "cell_type": "code",
   "execution_count": 6,
   "id": "6d7ade39",
   "metadata": {},
   "outputs": [
    {
     "name": "stdout",
     "output_type": "stream",
     "text": [
      "Input Principle Value10000\n",
      "Input Rate of Intrest in %8.75\n",
      "Input Time in years10\n"
     ]
    },
    {
     "data": {
      "text/plain": [
       "8750.0"
      ]
     },
     "execution_count": 6,
     "metadata": {},
     "output_type": "execute_result"
    }
   ],
   "source": [
    "'''Q5:- Write a program to find the simple interest when the value of principle,\n",
    "rate of interest and time period is provided by the user.'''\n",
    "\n",
    "prncp= float(input('Input Principle Value'))\n",
    "roi= float(input('Input Rate of Intrest in %'))\n",
    "time= float(input('Input Time in years'))\n",
    "\n",
    "roi= roi/100\n",
    "SI= prncp*roi*time\n",
    "SI"
   ]
  },
  {
   "cell_type": "code",
   "execution_count": 9,
   "id": "e0761e3a",
   "metadata": {},
   "outputs": [
    {
     "name": "stdout",
     "output_type": "stream",
     "text": [
      "Enter the total number of heads: 4\n",
      "Enter the total number of legs: 12\n",
      "Number of dogs: 2\n",
      "Number of chickens: 2\n"
     ]
    }
   ],
   "source": [
    "'''Q6:- Write a program that will tell the number of dogs and chicken are there when the user will \n",
    "provide the value of total heads and legs.\n",
    "For example: Input: heads -> 4 legs -> 12\n",
    "Output: dogs -> 2 chicken -> 2'''\n",
    "\n",
    "total_heads = int(input(\"Enter the total number of heads: \"))\n",
    "total_legs = int(input(\"Enter the total number of legs: \"))\n",
    "\n",
    "\n",
    "dogs = (total_legs - 2 * total_heads) // 2\n",
    "chickens = total_heads - dogs\n",
    "\n",
    "\n",
    "print(f\"Number of dogs: {dogs}\")\n",
    "print(f\"Number of chickens: {chickens}\")    "
   ]
  },
  {
   "cell_type": "code",
   "execution_count": 8,
   "id": "c84495ad",
   "metadata": {},
   "outputs": [
    {
     "data": {
      "text/plain": [
       "2"
      ]
     },
     "execution_count": 8,
     "metadata": {},
     "output_type": "execute_result"
    }
   ],
   "source": [
    "4//2"
   ]
  }
 ],
 "metadata": {
  "kernelspec": {
   "display_name": "Python 3 (ipykernel)",
   "language": "python",
   "name": "python3"
  },
  "language_info": {
   "codemirror_mode": {
    "name": "ipython",
    "version": 3
   },
   "file_extension": ".py",
   "mimetype": "text/x-python",
   "name": "python",
   "nbconvert_exporter": "python",
   "pygments_lexer": "ipython3",
   "version": "3.10.11"
  }
 },
 "nbformat": 4,
 "nbformat_minor": 5
}
